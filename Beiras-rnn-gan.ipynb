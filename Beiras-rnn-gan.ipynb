{
 "cells": [
  {
   "cell_type": "markdown",
   "metadata": {},
   "source": [
    "# Create a sequence generator with GAN\n",
    "In this notebook, we develog a GAN network with Recurrent Neural Network (RNN) to create a Galician language sequence generator. In this project, we use text from the Galician politician Beiras. \n",
    "\n",
    "**A GAN network does not work in this case**\n",
    "\n",
    "This work is based on \n",
    "https://github.com/udacity/aind2-rnn/blob/master/RNN_project.ipynb\n",
    "    \n",
    "The GAN implementation is based on https://github.com/osh/KerasGAN/blob/master/MNIST_CNN_GAN.ipynb    "
   ]
  },
  {
   "cell_type": "markdown",
   "metadata": {},
   "source": [
    "## Load the data\n",
    "First we load the data and preprocess:\n",
    "* Lower\n",
    "* remove lines with http links\n",
    "* remove symbols: '[ºªàâäçèêïìôöü&%@•…«»”“*/!\"(),.:;_¿¡¿‘’´\\[\\]\\']'"
   ]
  },
  {
   "cell_type": "code",
   "execution_count": 2,
   "metadata": {
    "collapsed": true
   },
   "outputs": [],
   "source": [
    "import numpy as np\n",
    "from beiras_aux import LoadText,print_predicctions"
   ]
  },
  {
   "cell_type": "code",
   "execution_count": 3,
   "metadata": {
    "collapsed": false
   },
   "outputs": [
    {
     "ename": "MemoryError",
     "evalue": "",
     "output_type": "error",
     "traceback": [
      "\u001b[0;31m---------------------------------------------------------------------------\u001b[0m",
      "\u001b[0;31mMemoryError\u001b[0m                               Traceback (most recent call last)",
      "\u001b[0;32m<ipython-input-3-d96092dcc2ff>\u001b[0m in \u001b[0;36m<module>\u001b[0;34m()\u001b[0m\n\u001b[1;32m      1\u001b[0m \u001b[0mwindow_size\u001b[0m \u001b[0;34m=\u001b[0m \u001b[0;36m100\u001b[0m\u001b[0;34m\u001b[0m\u001b[0m\n\u001b[1;32m      2\u001b[0m \u001b[0mstep_size\u001b[0m \u001b[0;34m=\u001b[0m \u001b[0;36m1\u001b[0m\u001b[0;34m\u001b[0m\u001b[0m\n\u001b[0;32m----> 3\u001b[0;31m \u001b[0mX\u001b[0m\u001b[0;34m,\u001b[0m\u001b[0my\u001b[0m\u001b[0;34m,\u001b[0m\u001b[0mchars\u001b[0m\u001b[0;34m,\u001b[0m\u001b[0mchars_to_indices\u001b[0m\u001b[0;34m,\u001b[0m\u001b[0mindices_to_chars\u001b[0m\u001b[0;34m,\u001b[0m\u001b[0mtext_clean\u001b[0m\u001b[0;34m=\u001b[0m\u001b[0mLoadText\u001b[0m\u001b[0;34m(\u001b[0m\u001b[0;34m'Beiras.txt'\u001b[0m\u001b[0;34m,\u001b[0m\u001b[0mwindow_size\u001b[0m\u001b[0;34m,\u001b[0m\u001b[0mstep_size\u001b[0m\u001b[0;34m)\u001b[0m\u001b[0;34m;\u001b[0m\u001b[0;34m\u001b[0m\u001b[0m\n\u001b[0m",
      "\u001b[0;32m~/beiras-rnn/beiras_aux.py\u001b[0m in \u001b[0;36mLoadText\u001b[0;34m(sz_file, window_size, step_size)\u001b[0m\n\u001b[1;32m     56\u001b[0m     \u001b[0;31m# this dictionary is a function mapping each unique integer back to a unique character\u001b[0m\u001b[0;34m\u001b[0m\u001b[0;34m\u001b[0m\u001b[0m\n\u001b[1;32m     57\u001b[0m     \u001b[0mindices_to_chars\u001b[0m \u001b[0;34m=\u001b[0m \u001b[0mdict\u001b[0m\u001b[0;34m(\u001b[0m\u001b[0;34m(\u001b[0m\u001b[0mi\u001b[0m\u001b[0;34m,\u001b[0m \u001b[0mc\u001b[0m\u001b[0;34m)\u001b[0m \u001b[0;32mfor\u001b[0m \u001b[0mi\u001b[0m\u001b[0;34m,\u001b[0m \u001b[0mc\u001b[0m \u001b[0;32min\u001b[0m \u001b[0menumerate\u001b[0m\u001b[0;34m(\u001b[0m\u001b[0mchars\u001b[0m\u001b[0;34m)\u001b[0m\u001b[0;34m)\u001b[0m  \u001b[0;31m# map each unique integer back to unique character\u001b[0m\u001b[0;34m\u001b[0m\u001b[0m\n\u001b[0;32m---> 58\u001b[0;31m     \u001b[0mX\u001b[0m\u001b[0;34m,\u001b[0m\u001b[0my\u001b[0m \u001b[0;34m=\u001b[0m \u001b[0mencode_io_pairs\u001b[0m\u001b[0;34m(\u001b[0m\u001b[0mtext_clean\u001b[0m\u001b[0;34m,\u001b[0m\u001b[0mwindow_size\u001b[0m\u001b[0;34m,\u001b[0m\u001b[0mstep_size\u001b[0m\u001b[0;34m,\u001b[0m\u001b[0mchars_to_indices\u001b[0m\u001b[0;34m)\u001b[0m\u001b[0;34m\u001b[0m\u001b[0m\n\u001b[0m\u001b[1;32m     59\u001b[0m     \u001b[0;32mreturn\u001b[0m \u001b[0mX\u001b[0m\u001b[0;34m,\u001b[0m\u001b[0my\u001b[0m\u001b[0;34m,\u001b[0m\u001b[0mchars\u001b[0m\u001b[0;34m,\u001b[0m\u001b[0mchars_to_indices\u001b[0m\u001b[0;34m,\u001b[0m\u001b[0mindices_to_chars\u001b[0m\u001b[0;34m,\u001b[0m\u001b[0mtext_clean\u001b[0m\u001b[0;34m\u001b[0m\u001b[0m\n\u001b[1;32m     60\u001b[0m \u001b[0;34m\u001b[0m\u001b[0m\n",
      "\u001b[0;32m~/beiras-rnn/beiras_aux.py\u001b[0m in \u001b[0;36mencode_io_pairs\u001b[0;34m(text, window_size, step_size, chars_to_indices)\u001b[0m\n\u001b[1;32m     26\u001b[0m \u001b[0;34m\u001b[0m\u001b[0m\n\u001b[1;32m     27\u001b[0m     \u001b[0;31m# create empty vessels for one-hot encoded input/output\u001b[0m\u001b[0;34m\u001b[0m\u001b[0;34m\u001b[0m\u001b[0m\n\u001b[0;32m---> 28\u001b[0;31m     \u001b[0mX\u001b[0m \u001b[0;34m=\u001b[0m \u001b[0mnp\u001b[0m\u001b[0;34m.\u001b[0m\u001b[0mzeros\u001b[0m\u001b[0;34m(\u001b[0m\u001b[0;34m(\u001b[0m\u001b[0mlen\u001b[0m\u001b[0;34m(\u001b[0m\u001b[0minputs\u001b[0m\u001b[0;34m)\u001b[0m\u001b[0;34m,\u001b[0m \u001b[0mwindow_size\u001b[0m\u001b[0;34m,\u001b[0m \u001b[0mnum_chars\u001b[0m\u001b[0;34m)\u001b[0m\u001b[0;34m,\u001b[0m \u001b[0mdtype\u001b[0m\u001b[0;34m=\u001b[0m\u001b[0mnp\u001b[0m\u001b[0;34m.\u001b[0m\u001b[0mbool\u001b[0m\u001b[0;34m)\u001b[0m\u001b[0;34m\u001b[0m\u001b[0m\n\u001b[0m\u001b[1;32m     29\u001b[0m     \u001b[0my\u001b[0m \u001b[0;34m=\u001b[0m \u001b[0mnp\u001b[0m\u001b[0;34m.\u001b[0m\u001b[0mzeros\u001b[0m\u001b[0;34m(\u001b[0m\u001b[0;34m(\u001b[0m\u001b[0mlen\u001b[0m\u001b[0;34m(\u001b[0m\u001b[0minputs\u001b[0m\u001b[0;34m)\u001b[0m\u001b[0;34m,\u001b[0m \u001b[0mnum_chars\u001b[0m\u001b[0;34m)\u001b[0m\u001b[0;34m,\u001b[0m \u001b[0mdtype\u001b[0m\u001b[0;34m=\u001b[0m\u001b[0mnp\u001b[0m\u001b[0;34m.\u001b[0m\u001b[0mbool\u001b[0m\u001b[0;34m)\u001b[0m\u001b[0;34m\u001b[0m\u001b[0m\n\u001b[1;32m     30\u001b[0m \u001b[0;34m\u001b[0m\u001b[0m\n",
      "\u001b[0;31mMemoryError\u001b[0m: "
     ]
    }
   ],
   "source": [
    "window_size = 100\n",
    "step_size = 1\n",
    "X,y,chars,chars_to_indices,indices_to_chars,text_clean=LoadText('Beiras.txt',window_size,step_size);"
   ]
  },
  {
   "cell_type": "markdown",
   "metadata": {},
   "source": [
    "* X .- Array shape (sentences, window_size, num_chars) .- Input for training.\n",
    "* y .- Array shape (sentences, num_chars) .- Output for training.\n",
    "* chars . -Array with chars we have in the clean text\n",
    "* chars_to_indices,indices_to_chars .- dictionaries to convert fron number to char and char to index\n",
    "* text_clean .- All the text clean."
   ]
  },
  {
   "cell_type": "markdown",
   "metadata": {},
   "source": [
    "## Test we have a GPU\n",
    "I used a g2.2xlarge EC2 machine. Without a GPU this is too slow."
   ]
  },
  {
   "cell_type": "code",
   "execution_count": 11,
   "metadata": {
    "collapsed": false
   },
   "outputs": [
    {
     "data": {
      "text/plain": [
       "[name: \"/cpu:0\"\n",
       " device_type: \"CPU\"\n",
       " memory_limit: 268435456\n",
       " locality {\n",
       " }\n",
       " incarnation: 15587238462670927579, name: \"/gpu:0\"\n",
       " device_type: \"GPU\"\n",
       " memory_limit: 3879469056\n",
       " locality {\n",
       "   bus_id: 1\n",
       " }\n",
       " incarnation: 17891074825725798988\n",
       " physical_device_desc: \"device: 0, name: GRID K520, pci bus id: 0000:00:03.0\"]"
      ]
     },
     "execution_count": 11,
     "metadata": {},
     "output_type": "execute_result"
    }
   ],
   "source": [
    "from tensorflow.python.client import device_lib\n",
    "device_lib.list_local_devices()"
   ]
  },
  {
   "cell_type": "markdown",
   "metadata": {},
   "source": [
    "## Auxiliar functions"
   ]
  },
  {
   "cell_type": "code",
   "execution_count": 6,
   "metadata": {
    "collapsed": true
   },
   "outputs": [],
   "source": [
    "# Make a network trainable\n",
    "def make_trainable(net, val):\n",
    "    net.trainable = val\n",
    "    for l in net.layers:\n",
    "        l.trainable = val"
   ]
  },
  {
   "cell_type": "code",
   "execution_count": 7,
   "metadata": {
    "collapsed": true
   },
   "outputs": [],
   "source": [
    "# We use a small data, because this network needs more memory\n",
    "Xsmall = X[:10000,:,:]\n",
    "ysmall = y[:10000,:]"
   ]
  },
  {
   "cell_type": "code",
   "execution_count": 8,
   "metadata": {
    "collapsed": true
   },
   "outputs": [],
   "source": [
    "# Plot the loss\n",
    "%matplotlib inline\n",
    "from IPython import display\n",
    "import matplotlib.pyplot as plt\n",
    "def plot_loss(losses):\n",
    "        display.clear_output(wait=True)\n",
    "        display.display(plt.gcf())\n",
    "        plt.figure(figsize=(10,8))\n",
    "        plt.plot(losses[\"d\"], label='discriminitive loss')\n",
    "        plt.plot(losses[\"g\"], label='generative loss')\n",
    "        plt.legend()\n",
    "        plt.show()"
   ]
  },
  {
   "cell_type": "markdown",
   "metadata": {},
   "source": [
    " ## Create the network "
   ]
  },
  {
   "cell_type": "code",
   "execution_count": 9,
   "metadata": {
    "collapsed": false
   },
   "outputs": [],
   "source": [
    "from keras.optimizers import Adam\n",
    "from keras.layers import Input\n",
    "from keras.layers.recurrent import GRU\n",
    "from keras.models import Model\n",
    "from keras.layers.core import Dense\n",
    "from keras.layers import Concatenate,concatenate,Reshape\n",
    "\n",
    "def create_gan_simple_model(chars,shp):\n",
    "    num_chars = len(chars)\n",
    "    opt = Adam(lr=1e-4)\n",
    "    dopt = Adam(lr=1e-3)\n",
    "    \n",
    "    # Generator\n",
    "    g_input = Input(shape=shp)\n",
    "    H=GRU(200)(g_input)\n",
    "    g_V=Dense(num_chars,activation='softmax')(H)\n",
    "    generator = Model(g_input,g_V)\n",
    "    generator.compile(loss='binary_crossentropy', optimizer=opt)\n",
    "    generator.summary()\n",
    "    \n",
    "    #Distriminator\n",
    "    shp_discriminator=(shp[0]+1,shp[1])\n",
    "    print(shp_discriminator)\n",
    "    d_input = Input(shape=shp_discriminator)\n",
    "    H=GRU(200)(d_input)\n",
    "    d_V=Dense(2,activation='softmax')(H)\n",
    "    discriminator = Model(d_input,d_V)\n",
    "    discriminator.compile(loss='categorical_crossentropy', optimizer=dopt)\n",
    "    discriminator.summary()\n",
    "        \n",
    "    make_trainable(discriminator, False)\n",
    "    \n",
    "    #GAN \n",
    "    gan_input = Input(shape=shp)\n",
    "    H = generator(gan_input)\n",
    "    print(gan_input.shape,H.shape)\n",
    "    print(H.shape[1],num_chars)\n",
    "    H = Reshape((1,num_chars))(H)\n",
    "    print(gan_input.shape,H.shape)\n",
    "    H=concatenate([gan_input,H],axis=1)\n",
    "    print(H.shape)\n",
    "    gan_V = discriminator(H)\n",
    "    GAN = Model(gan_input, gan_V)\n",
    "    GAN.compile(loss='categorical_crossentropy', optimizer=opt)\n",
    "    GAN.summary()\n",
    "    \n",
    "    return generator,discriminator,GAN"
   ]
  },
  {
   "cell_type": "code",
   "execution_count": 10,
   "metadata": {
    "collapsed": false
   },
   "outputs": [
    {
     "name": "stdout",
     "output_type": "stream",
     "text": [
      "_________________________________________________________________\n",
      "Layer (type)                 Output Shape              Param #   \n",
      "=================================================================\n",
      "input_3 (InputLayer)         (None, 100, 55)           0         \n",
      "_________________________________________________________________\n",
      "gru_3 (GRU)                  (None, 200)               153600    \n",
      "_________________________________________________________________\n",
      "dense_3 (Dense)              (None, 55)                11055     \n",
      "=================================================================\n",
      "Total params: 164,655\n",
      "Trainable params: 164,655\n",
      "Non-trainable params: 0\n",
      "_________________________________________________________________\n",
      "(101, 55)\n",
      "_________________________________________________________________\n",
      "Layer (type)                 Output Shape              Param #   \n",
      "=================================================================\n",
      "input_4 (InputLayer)         (None, 101, 55)           0         \n",
      "_________________________________________________________________\n",
      "gru_4 (GRU)                  (None, 200)               153600    \n",
      "_________________________________________________________________\n",
      "dense_4 (Dense)              (None, 2)                 402       \n",
      "=================================================================\n",
      "Total params: 154,002\n",
      "Trainable params: 154,002\n",
      "Non-trainable params: 0\n",
      "_________________________________________________________________\n",
      "(?, 100, 55) (?, 55)\n",
      "55 55\n",
      "(?, 100, 55) (?, 1, 55)\n",
      "(?, 101, 55)\n",
      "____________________________________________________________________________________________________\n",
      "Layer (type)                     Output Shape          Param #     Connected to                     \n",
      "====================================================================================================\n",
      "input_5 (InputLayer)             (None, 100, 55)       0                                            \n",
      "____________________________________________________________________________________________________\n",
      "model_3 (Model)                  (None, 55)            164655      input_5[0][0]                    \n",
      "____________________________________________________________________________________________________\n",
      "reshape_1 (Reshape)              (None, 1, 55)         0           model_3[1][0]                    \n",
      "____________________________________________________________________________________________________\n",
      "concatenate_1 (Concatenate)      (None, 101, 55)       0           input_5[0][0]                    \n",
      "                                                                   reshape_1[0][0]                  \n",
      "____________________________________________________________________________________________________\n",
      "model_4 (Model)                  (None, 2)             154002      concatenate_1[0][0]              \n",
      "====================================================================================================\n",
      "Total params: 318,657\n",
      "Trainable params: 164,655\n",
      "Non-trainable params: 154,002\n",
      "____________________________________________________________________________________________________\n"
     ]
    }
   ],
   "source": [
    "generator,discriminator,GAN=create_gan_simple_model(chars,X.shape[1:])"
   ]
  },
  {
   "cell_type": "code",
   "execution_count": 89,
   "metadata": {
    "collapsed": false
   },
   "outputs": [],
   "source": [
    "from tqdm import tqdm\n",
    "def train_for_n(X,y,nb_epoch=30, plt_frq=25,batch_size=32):\n",
    "    losses = {\"d\":[], \"g\":[]}\n",
    "    y=np.reshape(y,(y.shape[0],1,y.shape[1]))\n",
    "    for e in tqdm(range(nb_epoch)):  \n",
    "        for jj in range(X.shape[0]//batch_size):\n",
    "            # Make generative images \n",
    "            random_index_gen=np.random.randint(0,X.shape[0],size=batch_size)\n",
    "            text_batch_gen=X[random_index_gen,:,:]\n",
    "        \n",
    "            random_index_dis=np.random.randint(0,X.shape[0],size=batch_size)\n",
    "            text_batch_dis=X[random_index_dis,:,:]\n",
    "            text_batch_dis= np.concatenate((text_batch_dis,y[random_index_dis,:]),axis=1)\n",
    "        \n",
    "            generated_text = generator.predict(text_batch_gen)\n",
    "            generated_text=np.reshape(generated_text,(generated_text.shape[0],1,generated_text.shape[1]))\n",
    "            generated_text=np.concatenate((text_batch_gen,generated_text),axis=1)\n",
    "            # Train discriminator on generated images\n",
    "            X_dis = np.concatenate(( text_batch_dis,generated_text))\n",
    "            y_dis = np.zeros([2*batch_size,2])\n",
    "            y_dis[0:batch_size,1] = 1\n",
    "            y_dis[batch_size:,0] = 1\n",
    "        \n",
    "            make_trainable(discriminator,True)\n",
    "            d_loss  = discriminator.train_on_batch(X_dis,y_dis)\n",
    "            losses[\"d\"].append(d_loss)\n",
    "    \n",
    "            # train Generator-Discriminator stack on input noise to non-generated output class\n",
    "            make_trainable(discriminator,False)\n",
    "            random_index_gan=np.random.randint(0,X.shape[0],size=batch_size)\n",
    "            text_batch_gan=X[random_index_gan,:,:]\n",
    "            y2 = np.zeros([batch_size,2])\n",
    "            y2[:,1] = 1\n",
    "        \n",
    "        \n",
    "            g_loss = GAN.train_on_batch(text_batch_gan, y2 )\n",
    "            losses[\"g\"].append(g_loss)\n",
    "        \n",
    "            #Updates plots\n",
    "            if jj%plt_frq==plt_frq-1:\n",
    "                plot_loss(losses)\n",
    "                print_predicctions(generator)\n",
    "            \n",
    "    generator.save_weights('model_weights/best_beiras_gan_textdata_weights.hdf5')         "
   ]
  },
  {
   "cell_type": "code",
   "execution_count": 90,
   "metadata": {
    "collapsed": false,
    "scrolled": true
   },
   "outputs": [
    {
     "data": {
      "text/plain": [
       "<matplotlib.figure.Figure at 0x7f0829b0df60>"
      ]
     },
     "metadata": {},
     "output_type": "display_data"
    },
    {
     "data": {
      "text/plain": [
       "<matplotlib.figure.Figure at 0x7f0829b0df60>"
      ]
     },
     "metadata": {},
     "output_type": "display_data"
    },
    {
     "data": {
      "image/png": "[encoded data removed]",
      "text/plain": [
       "<matplotlib.figure.Figure at 0x7f0829972cc0>"
      ]
     },
     "metadata": {},
     "output_type": "display_data"
    },
    {
     "name": "stdout",
     "output_type": "stream",
     "text": [
      "------------------\n",
      "input chars = \n",
      "pla panfletaria contra as leoninas taxas impostas polo ministro de xustiza actual malia que vulneran\"\n",
      "\n",
      "predicted chars = \n",
      "oooooooooooooooooooooooooooooooooooooooooooooooooooooooooooooooooooooooooooooooooooooooooooooooooooo\"\n",
      "\n",
      "------------------\n",
      "input chars = \n",
      "poema de rosalía titulado a xusticia pola man e dado á luz no seu libro follas novas por certo que s\"\n",
      "\n",
      "predicted chars = \n",
      "oooooooooooooooooooooooooooooooooooooooooooooooooooooooooooooooooooooooooooooooooooooooooooooooooooo\"\n",
      "\n",
      "------------------\n",
      "input chars = \n",
      "se moito cando dixen eu que as suas políticas agresoras do común cidadán matan e a sua cospedal alcu\"\n",
      "\n",
      "predicted chars = \n",
      "oooooooooooooooooooooooooooooooooooooooooooooooooooooooooooooooooooooooooooooooooooooooooooooooooooo\"\n",
      "\n"
     ]
    },
    {
     "name": "stderr",
     "output_type": "stream",
     "text": [
      "100%|██████████| 10/10 [13:31:43<00:00, 4870.36s/it] \n"
     ]
    }
   ],
   "source": [
    "train_for_n(X,y,nb_epoch=10, plt_frq=100,batch_size=300)\n"
   ]
  },
  {
   "cell_type": "code",
   "execution_count": 11,
   "metadata": {
    "collapsed": false
   },
   "outputs": [
    {
     "name": "stdout",
     "output_type": "stream",
     "text": [
      "pla panfletaria contra as leoninas taxas impostas polo ministro de xustiza actual malia que vulneran....qíõnqíõnqíõnqíõnqíõnqíõnqíõnqíõnqíõnqíõnqíõnqíõnqíõnqíõnqíõnqíõnqíõnqíõnqíõnqíõnqíõnqíõnqíõnqíõnqíõn\n",
      "poema de rosalía titulado a xusticia pola man e dado á luz no seu libro follas novas por certo que s....këxëxhëo­­2bddy–hb1ko­2—fáááá3nqíqõl9éhëxëxhëo­­2bddy–hb1ko­2—fáááá3nqíqõl9éhëxëxhëo­­2bddy–hb1ko­2—\n",
      "se moito cando dixen eu que as suas políticas agresoras do común cidadán matan e a sua cospedal alcu....z—fpp1kv-ëxëxëxhëo­­2bddy–hb1ko­2—fáááá3nqíqõl9éhëxëxhëo­­2bddy–hb1ko­2—fáááá3nqíqõl9éhëxëxhëo­­2bdd\n"
     ]
    }
   ],
   "source": [
    "print_predicctions(generator)\n",
    "generator.save_weights('model_weights/best_beiras_gan_textdata_weights.hdf5',\n",
    "                   chars_to_indices,indices_to_chars,text_clean,window_size)"
   ]
  },
  {
   "cell_type": "code",
   "execution_count": null,
   "metadata": {
    "collapsed": true
   },
   "outputs": [],
   "source": []
  }
 ],
 "metadata": {
  "kernelspec": {
   "display_name": "Python [conda env:beiras-rnn]",
   "language": "python",
   "name": "conda-env-beiras-rnn-py"
  },
  "language_info": {
   "codemirror_mode": {
    "name": "ipython",
    "version": 3
   },
   "file_extension": ".py",
   "mimetype": "text/x-python",
   "name": "python",
   "nbconvert_exporter": "python",
   "pygments_lexer": "ipython3",
   "version": "3.6.2"
  }
 },
 "nbformat": 4,
 "nbformat_minor": 2
}
