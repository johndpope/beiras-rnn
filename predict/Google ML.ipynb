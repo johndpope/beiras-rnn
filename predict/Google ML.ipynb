{
 "cells": [
  {
   "cell_type": "markdown",
   "metadata": {},
   "source": [
    "https://cloud.google.com/ml-engine/docs/command-line\n",
    "Create a project and enable it\n"
   ]
  },
  {
   "cell_type": "markdown",
   "metadata": {},
   "source": [
    "apt-get install sudo curl"
   ]
  },
  {
   "cell_type": "code",
   "execution_count": null,
   "metadata": {
    "collapsed": true
   },
   "outputs": [],
   "source": [
    "https://cloud.google.com/sdk/docs/quickstart-debian-ubuntu\n",
    "# Create an environment variable for the correct distribution\n",
    "export CLOUD_SDK_REPO=\"cloud-sdk-$(lsb_release -c -s)\"\n",
    "\n",
    "# Add the Cloud SDK distribution URI as a package source\n",
    "echo \"deb http://packages.cloud.google.com/apt $CLOUD_SDK_REPO main\" | sudo tee -a /etc/apt/sources.list.d/google-cloud-sdk.list\n",
    "\n",
    "# Import the Google Cloud Platform public key\n",
    "curl https://packages.cloud.google.com/apt/doc/apt-key.gpg | sudo apt-key add -\n",
    "\n",
    "# Update the package list and install the Cloud SDK\n",
    "sudo apt-get update && sudo apt-get install google-cloud-sdk"
   ]
  },
  {
   "cell_type": "code",
   "execution_count": null,
   "metadata": {
    "collapsed": true
   },
   "outputs": [],
   "source": [
    "gcloud init\n",
    "gcloud config set project ai-ml-dl\n"
   ]
  },
  {
   "cell_type": "code",
   "execution_count": null,
   "metadata": {
    "collapsed": true
   },
   "outputs": [],
   "source": [
    "https://cloud.google.com/ml-engine/docs/getting-started-training-prediction"
   ]
  },
  {
   "cell_type": "markdown",
   "metadata": {},
   "source": [
    "Export ml,  Model validation failed: Serving metagraph must contain exactly one SignatureDef with key: serving_default"
   ]
  },
  {
   "cell_type": "code",
   "execution_count": 1,
   "metadata": {},
   "outputs": [
    {
     "name": "stderr",
     "output_type": "stream",
     "text": [
      "Using TensorFlow backend.\n",
      "/home/jota/anaconda3/envs/beiras-rnn/lib/python3.6/importlib/_bootstrap.py:205: RuntimeWarning: compiletime version 3.5 of module 'tensorflow.python.framework.fast_tensor_util' does not match runtime version 3.6\n",
      "  return f(*args, **kwds)\n"
     ]
    },
    {
     "name": "stdout",
     "output_type": "stream",
     "text": [
      "INFO:tensorflow:No assets to save.\n",
      "INFO:tensorflow:No assets to write.\n",
      "INFO:tensorflow:SavedModel written to: b'../export-google-ml/1/saved_model.pb'\n"
     ]
    }
   ],
   "source": [
    "import sys\n",
    "sys.path.insert(0, '../aux/')\n",
    "from beiras_aux import load_coded_dictionaries, predict_next_chars, clean_text\n",
    "from keras.layers import Dense, Activation, GRU\n",
    "from keras.models import Sequential\n",
    "from keras.layers import InputLayer\n",
    "import os\n",
    "\n",
    "# Defining the model\n",
    "def create_gru_model( num_chars):\n",
    "    \"\"\"\n",
    "    Define the network\n",
    "    :param\n",
    "        numbers_chars .- Number chars using in the training process\n",
    "    :return:\n",
    "        model .- Model network defined\n",
    "    \"\"\"\n",
    "    model = Sequential()\n",
    "    # 1 Layer .- GRU layer 1 should be an GRU module with 200 hidden units\n",
    "    model.add(GRU(200, input_shape=(window_size, num_chars), return_sequences=True))\n",
    "    # 2 Layer .- GRU layer 2 should be an GRU module with 200 hidden units\n",
    "    model.add(GRU(200))\n",
    "    # 2 Layer .-  Dense, with number chars unit and softmax activation\n",
    "    model.add(Dense(num_chars, activation='softmax'))\n",
    "    return model\n",
    "\n",
    "import keras.backend as K\n",
    "K.set_learning_phase(0)\n",
    "\n",
    "# Input size of the network, the entry text must have the same length\n",
    "window_size = 100\n",
    "# Get dictionaries\n",
    "chars_to_indices, indices_to_chars = load_coded_dictionaries()\n",
    "number_chars=len(chars_to_indices)\n",
    "# regenerate the model\n",
    "model=create_gru_model(number_chars)\n",
    "model.load_weights('../model_weights/best_beiras_gru_textdata_weights.hdf5')\n",
    "\n",
    "\n",
    "from tensorflow.python.saved_model import builder as saved_model_builder\n",
    "from tensorflow.python.saved_model import utils\n",
    "from tensorflow.python.saved_model import tag_constants, signature_constants\n",
    "from tensorflow.python.saved_model.signature_def_utils_impl import build_signature_def, predict_signature_def\n",
    "from tensorflow.contrib.session_bundle import exporter\n",
    "\n",
    "# Path to export, 1 is the version, \n",
    "# we can serve differents version with the same server\n",
    "export_path = \"../export-google-ml/1\"\n",
    "import shutil\n",
    "import os\n",
    "\n",
    "\n",
    "if os.path.isdir(export_path):\n",
    "    shutil.rmtree(export_path)\n",
    "builder = saved_model_builder.SavedModelBuilder(export_path)\n",
    "\n",
    "signature = predict_signature_def(inputs={'sequence': model.input},\n",
    "                                  outputs={'scores': model.output})\n",
    "\n",
    "with K.get_session() as sess:\n",
    "    builder.add_meta_graph_and_variables(sess=sess,\n",
    "                                         tags=[tag_constants.SERVING],\n",
    "                                         signature_def_map={'serving_default': signature})\n",
    "    builder.save()\n"
   ]
  },
  {
   "cell_type": "code",
   "execution_count": null,
   "metadata": {
    "collapsed": true
   },
   "outputs": [],
   "source": [
    "Make bucket an upload\n",
    "gsutil mb gs://beiras_rnn/\n",
    "gsutil cp -r ./export-google-ml/ gs://beiras_rnn/\n"
   ]
  },
  {
   "cell_type": "code",
   "execution_count": null,
   "metadata": {
    "collapsed": true
   },
   "outputs": [],
   "source": [
    "MODEL_NAME=BeirasRnn\n",
    "gcloud ml-engine models create $MODEL_NAME --enable-logging\n",
    "DEPLOYMENT_SOURCE=\"gs://beiras_rnn/export-google-ml/1\"\n",
    "gcloud ml-engine versions create \"v02\" --model $MODEL_NAME  --origin $DEPLOYMENT_SOURCE\n"
   ]
  },
  {
   "cell_type": "code",
   "execution_count": 71,
   "metadata": {},
   "outputs": [],
   "source": [
    "import sys\n",
    "import numpy as np\n",
    "sys.path.insert(0, '../aux/')\n",
    "from beiras_aux import load_coded_dictionaries, predict_next_chars, clean_text\n",
    "\n",
    "\n",
    "input_init=\"se moito cando dixen eu que as suas políticas agresoras do común cidadán matan e a sua cospedal alcu\"\n",
    "input_init=\"pla panfletaria contra as leoninas taxas impostas polo ministro de xustiza actual malia que vulneran\"\n",
    "# Load values\n",
    "window_size = 100\n",
    "chars_to_indices, indices_to_chars = load_coded_dictionaries()\n",
    "number_chars=len(chars_to_indices)\n",
    "# Clean the text\n",
    "input_clean=clean_text(input_init.lower())\n",
    "input_clean = input_clean[:window_size]\n",
    "# Text to array [1,input_lenght,num_chars]\n",
    "#x_test = np.zeros((1,window_size, number_chars))\n",
    "#for t, char in enumerate(input_clean):\n",
    "#    x_test[0, t, chars_to_indices[char]] = 1.\n",
    "#x_test   \n",
    "\n",
    "## Ollo, hai que invertir frente o que empregar normalmente filas x columnas\n",
    "x_test = np.zeros((number_chars,window_size))\n",
    "for t, char in enumerate(input_clean):\n",
    "    x_test[ chars_to_indices[char],t] = 1."
   ]
  },
  {
   "cell_type": "code",
   "execution_count": null,
   "metadata": {
    "collapsed": true
   },
   "outputs": [],
   "source": [
    "pip install --upgrade google-api-python-client"
   ]
  },
  {
   "cell_type": "code",
   "execution_count": null,
   "metadata": {
    "collapsed": true
   },
   "outputs": [],
   "source": [
    "cloud auth application-default login,"
   ]
  },
  {
   "cell_type": "code",
   "execution_count": 109,
   "metadata": {},
   "outputs": [
    {
     "name": "stdout",
     "output_type": "stream",
     "text": [
      "[0.15315677225589752, 5.445067140230631e-13, 0.00888405553996563, 3.2357725388010294e-08, 1.7484167983639054e-05, 6.10320275882259e-05, 1.2296323802729603e-05, 1.1282341802143492e-05, 3.179920167895034e-05, 3.8525176933035254e-05, 2.2138216081657447e-05, 2.391875023022294e-05, 8.11919198895339e-06, 0.0001562454126542434, 0.024670373648405075, 0.0025260080583393574, 0.001229702727869153, 0.0003667160344775766, 0.15842320024967194, 0.000622001476585865, 0.012139963917434216, 0.003239764366298914, 0.08750336617231369, 5.42994439456379e-06, 7.810050192347262e-06, 0.007188642863184214, 0.005238964222371578, 0.009875708259642124, 0.006339691113680601, 0.0020037461072206497, 0.0003367718309164047, 0.0021479781717061996, 0.5080389380455017, 0.0013852526899427176, 0.0022390142548829317, 0.001438260544091463, 4.310204076318769e-06, 4.12502049584873e-05, 2.2399261069949716e-05, 1.0920505701506045e-05, 5.618276568801484e-13, 4.796372717399966e-13, 9.346359729534015e-05, 6.586684865063364e-13, 0.00033832990447990596, 4.495851390826089e-13, 4.944051761412993e-05, 4.966080715054777e-13, 6.097219284129096e-06, 5.4490364043841e-13, 1.7855625628726557e-05, 4.984889996444142e-13, 1.245629846380325e-05, 5.450895059766481e-06, 7.0175483415368944e-06]\n"
     ]
    },
    {
     "data": {
      "text/plain": [
       "'s'"
      ]
     },
     "execution_count": 109,
     "metadata": {},
     "output_type": "execute_result"
    }
   ],
   "source": [
    "import googleapiclient.discovery\n",
    "project=\"ai-ml-dl\"\n",
    "model=\"BeirasRnn\"\n",
    "version=None\n",
    "service = googleapiclient.discovery.build('ml', 'v1')\n",
    "name = 'projects/{}/models/{}'.format(project, model)\n",
    "if version is not None:\n",
    "        name += '/versions/{}'.format(version)\n",
    "instances={'sequence':x_test.tolist()}\n",
    "response = service.projects().predict(\n",
    "        name=name,\n",
    "        body={'instances': instances}\n",
    "    ).execute()\n",
    "if 'error' in response:\n",
    "    raise RuntimeError(response['error'])\n",
    "test_predict=np.array(response['predictions'][0]['scores'])\n",
    "r = np.argmax(test_predict)  # predict class of each test input\n",
    "indices_to_chars[r]\n"
   ]
  },
  {
   "cell_type": "markdown",
   "metadata": {},
   "source": [
    "Predict from console"
   ]
  },
  {
   "cell_type": "code",
   "execution_count": 69,
   "metadata": {},
   "outputs": [],
   "source": [
    "import json\n",
    "with open('data.json', 'w') as fp:\n",
    "    json.dump(instances, fp)"
   ]
  },
  {
   "cell_type": "code",
   "execution_count": null,
   "metadata": {
    "collapsed": true
   },
   "outputs": [],
   "source": [
    "gcloud ml-engine predict --model=BeirasRnn --json-instances=data.json\n"
   ]
  },
  {
   "cell_type": "code",
   "execution_count": 43,
   "metadata": {},
   "outputs": [
    {
     "data": {
      "text/plain": [
       "1"
      ]
     },
     "execution_count": 43,
     "metadata": {},
     "output_type": "execute_result"
    }
   ],
   "source": []
  },
  {
   "cell_type": "markdown",
   "metadata": {},
   "source": [
    "Predict with funcions\n"
   ]
  },
  {
   "cell_type": "code",
   "execution_count": 126,
   "metadata": {},
   "outputs": [],
   "source": [
    "# Define a function\n",
    "def predict_one(text_predict,service,model_name,window_size,chars_to_indices, indices_to_chars):\n",
    "    # Convert input sequence to array\n",
    "    number_chars=len(chars_to_indices)\n",
    "    x_test = np.zeros((number_chars,window_size))\n",
    "    for t, char in enumerate(text_predict):\n",
    "        x_test[chars_to_indices[char],t] = 1.\n",
    "    #Prepare the request\n",
    "    instances={'sequence':x_test.tolist()}\n",
    "    response = service.projects().predict(\n",
    "        name=name,\n",
    "        body={'instances': instances}\n",
    "    ).execute()\n",
    "    if 'error' in response:\n",
    "        raise RuntimeError(response['error'])\n",
    "    test_predict=np.array(response['predictions'][0]['scores'])\n",
    "    r = np.argmax(test_predict)  # predict class of each test input\n",
    "    print(text_predict)\n",
    "    print(test_predict)\n",
    "    print(r,indices_to_chars[r])\n",
    "    return (indices_to_chars[r])"
   ]
  },
  {
   "cell_type": "code",
   "execution_count": 127,
   "metadata": {
    "collapsed": true
   },
   "outputs": [],
   "source": [
    "project=\"ai-ml-dl\"\n",
    "model=\"BeirasRnn\"\n",
    "version=None\n",
    "\n",
    "# Complete a sequence using the server\n",
    "def predict_window(text_predict,number_predict,window_size):\n",
    "    \n",
    "    # Get dictionaries\n",
    "    chars_to_indices, indices_to_chars = load_coded_dictionaries()\n",
    "    # Clean the test\n",
    "    input_clean=clean_text(text_predict.lower())\n",
    "    # Get stub\n",
    "    service = googleapiclient.discovery.build('ml', 'v1')\n",
    "    name = 'projects/{}/models/{}'.format(project, model)\n",
    "    if version is not None:\n",
    "        name += '/versions/{}'.format(version)\n",
    "    # Call server for all charazters\n",
    "    for i in range(number_predict):\n",
    "        d=predict_one(input_clean[i:],service,name,window_size,chars_to_indices, indices_to_chars)\n",
    "        input_clean+=d\n",
    "    return input_clean"
   ]
  },
  {
   "cell_type": "code",
   "execution_count": 128,
   "metadata": {},
   "outputs": [
    {
     "name": "stdout",
     "output_type": "stream",
     "text": [
      "se moito cando dixen eu que as suas políticas agresoras do común cidadán matan e a sua cospedal alcu\n",
      "[  3.02791549e-03   1.82074245e-13   1.66169353e-04   7.92613406e-08\n",
      "   5.73130601e-05   1.31240768e-05   2.25630544e-07   1.25827592e-05\n",
      "   3.36391054e-06   2.49683217e-06   2.67709061e-06   2.58707291e-06\n",
      "   3.85522708e-06   1.68106453e-06   9.78884920e-02   7.72795000e-04\n",
      "   1.28873562e-05   6.51064329e-05   4.04933803e-02   5.68993273e-05\n",
      "   7.88223770e-05   2.52500555e-04   7.03036606e-01   2.65130211e-06\n",
      "   2.58586806e-05   6.67042732e-02   1.81544849e-04   4.20611771e-03\n",
      "   6.22344902e-03   1.42863850e-04   1.35668085e-06   8.01028404e-03\n",
      "   6.67816699e-02   1.40305041e-04   2.27522425e-04   2.22166782e-05\n",
      "   3.05614267e-05   1.81408183e-07   9.27245637e-05   1.32501589e-06\n",
      "   1.63243293e-13   1.66929716e-13   1.00698369e-03   2.05680620e-13\n",
      "   6.43400635e-05   1.30786441e-13   1.48362204e-04   1.64503529e-13\n",
      "   2.37581412e-06   1.64584519e-13   1.40918200e-05   1.60686067e-13\n",
      "   1.50571059e-05   8.69439134e-07   1.57377144e-06]\n",
      "22 i\n",
      "e moito cando dixen eu que as suas políticas agresoras do común cidadán matan e a sua cospedal alcui\n",
      "[  5.52094281e-01   3.89625962e-12   3.09385825e-02   1.28915790e-05\n",
      "   3.28784154e-05   1.70391484e-03   2.56831154e-05   2.47732842e-05\n",
      "   1.09390839e-05   3.39338985e-05   1.15432913e-05   1.00935804e-05\n",
      "   6.60438236e-05   3.02164699e-04   6.95605340e-05   9.69279441e-04\n",
      "   4.94398293e-04   5.77114001e-02   1.54223444e-03   1.07841298e-03\n",
      "   7.61688789e-05   5.09553589e-02   8.82678386e-03   1.56020542e-05\n",
      "   3.36998142e-03   1.55776218e-01   5.55305835e-03   1.01864394e-02\n",
      "   1.10078974e-04   2.05328409e-03   3.27542948e-05   1.63421233e-03\n",
      "   1.18120769e-02   1.24623987e-03   2.55563355e-05   7.09194541e-02\n",
      "   1.30186425e-04   3.11874487e-06   2.93314196e-02   4.57792776e-04\n",
      "   3.58655575e-12   3.83657082e-12   1.79362214e-05   3.77946849e-12\n",
      "   1.08518434e-05   3.17745157e-12   9.07954018e-06   3.73991333e-12\n",
      "   1.89836530e-04   3.70026405e-12   3.98400989e-05   3.36524970e-12\n",
      "   4.00970857e-05   3.39604485e-05   9.51627499e-06]\n",
      "0  \n",
      " moito cando dixen eu que as suas políticas agresoras do común cidadán matan e a sua cospedal alcui \n",
      "[  6.51246846e-01   9.41844158e-10   7.38635585e-02   4.50651169e-06\n",
      "   1.02064048e-04   5.09667261e-05   7.92472747e-06   1.92600000e-05\n",
      "   2.79401957e-05   7.07648796e-05   1.56325150e-05   1.58291750e-05\n",
      "   8.03998410e-05   2.76092142e-02   4.12615016e-03   1.03645711e-04\n",
      "   2.19445908e-04   5.78490835e-06   1.63197070e-02   5.16369910e-05\n",
      "   8.28013581e-05   2.77256463e-02   1.99604575e-02   1.11600439e-05\n",
      "   5.23471172e-05   3.92413407e-04   4.37232869e-04   1.67709624e-03\n",
      "   1.02284558e-01   7.30722168e-05   3.52943971e-05   7.95057474e-07\n",
      "   4.96260040e-02   1.41521123e-05   4.73163603e-03   1.64946239e-03\n",
      "   8.71494878e-04   2.68334334e-05   1.69054634e-04   4.38462775e-05\n",
      "   1.08315479e-09   8.84598450e-10   1.10652996e-03   8.75884865e-10\n",
      "   2.65235850e-03   8.66671734e-10   1.12449033e-02   9.49155088e-10\n",
      "   1.29774417e-04   8.83365880e-10   1.14612165e-04   1.11003884e-09\n",
      "   1.64070789e-05   7.26972590e-04   2.01653267e-04]\n",
      "0  \n",
      "moito cando dixen eu que as suas políticas agresoras do común cidadán matan e a sua cospedal alcui  \n",
      "[  2.84745526e-02   1.77372819e-12   6.61285361e-04   2.81930397e-07\n",
      "   2.53790116e-04   5.85226662e-05   7.58835040e-06   4.30947002e-05\n",
      "   6.01028332e-05   1.16916424e-04   3.17825129e-06   1.70913827e-05\n",
      "   2.38116081e-06   3.66929926e-05   3.24824572e-01   7.77646055e-05\n",
      "   1.19313954e-04   1.00541483e-05   7.45414011e-03   8.83914181e-04\n",
      "   4.76028508e-04   7.79794820e-04   5.55875242e-01   7.92803348e-06\n",
      "   4.17137235e-05   1.29230495e-03   5.34899416e-04   4.46980819e-03\n",
      "   5.72033040e-02   1.10457717e-04   1.14085105e-05   1.87032844e-03\n",
      "   6.42834092e-03   2.24510813e-03   3.82242608e-03   2.30766265e-04\n",
      "   8.47334377e-05   1.88000286e-06   7.02371108e-05   4.48399151e-05\n",
      "   1.62252850e-12   1.49130328e-12   1.30936445e-04   2.17478487e-12\n",
      "   1.26761355e-04   1.43106815e-12   3.44827509e-04   1.53758907e-12\n",
      "   5.05942371e-05   1.61447743e-12   3.45696113e-04   1.55225182e-12\n",
      "   2.87505361e-04   1.81872895e-06   5.05559638e-06]\n",
      "22 i\n",
      "oito cando dixen eu que as suas políticas agresoras do común cidadán matan e a sua cospedal alcui  i\n",
      "[  1.05961617e-02   1.88782701e-09   2.02500215e-03   3.27277075e-06\n",
      "   1.53736721e-04   6.59443249e-05   8.82681161e-06   4.46835220e-05\n",
      "   6.89502704e-05   6.65755579e-06   4.41228440e-06   1.38487803e-05\n",
      "   4.57008446e-06   3.74276703e-03   3.98259945e-02   1.29797903e-03\n",
      "   1.56037000e-04   1.05481537e-03   6.94957018e-01   9.09708906e-04\n",
      "   1.96386967e-03   7.53125816e-04   2.92218581e-04   1.12851703e-04\n",
      "   2.63722584e-04   1.43119069e-02   9.01163835e-03   1.50992172e-02\n",
      "   1.09591365e-01   1.62146916e-05   4.78667025e-05   8.20083253e-04\n",
      "   8.18187967e-02   2.16257540e-04   2.45898525e-04   1.18556836e-05\n",
      "   4.98958252e-05   1.61127158e-04   7.76471046e-04   1.57961167e-05\n",
      "   2.04048023e-09   2.08611350e-09   1.75360590e-03   2.31925168e-09\n",
      "   3.87266884e-03   1.78452453e-09   2.26217811e-03   1.96422034e-09\n",
      "   2.09745667e-05   2.09492956e-09   4.85147932e-04   1.94402650e-09\n",
      "   9.88415195e-05   7.33250228e-04   2.52772326e-04]\n",
      "18 e\n",
      "ito cando dixen eu que as suas políticas agresoras do común cidadán matan e a sua cospedal alcui  ie\n",
      "[  9.00565088e-01   5.71812888e-13   5.55094611e-03   1.28073182e-07\n",
      "   5.53604468e-06   2.56533749e-05   1.26575424e-05   3.22440283e-05\n",
      "   3.91720096e-05   2.13859475e-05   1.55232301e-05   2.38688790e-05\n",
      "   5.16537557e-06   2.26624627e-02   2.02661636e-03   5.36183920e-03\n",
      "   1.88447884e-04   4.73726031e-05   3.79674360e-02   2.00356317e-05\n",
      "   1.48326408e-05   9.44261160e-03   2.50228867e-03   1.99245733e-06\n",
      "   1.28598122e-05   3.35203949e-05   2.14145635e-03   4.22784127e-03\n",
      "   1.31550172e-04   3.53185489e-04   7.84009389e-05   3.72007256e-04\n",
      "   3.24072642e-03   1.77340899e-05   2.05461984e-05   3.95208859e-04\n",
      "   4.55624604e-06   4.31352200e-05   2.91200223e-07   5.10053951e-06\n",
      "   6.15605982e-13   5.90948460e-13   5.50899073e-04   5.34509177e-13\n",
      "   1.35804876e-04   5.03212110e-13   1.63746660e-03   5.99293618e-13\n",
      "   6.30498425e-06   5.59605422e-13   9.35764433e-07   6.03006306e-13\n",
      "   1.07458061e-06   4.56112612e-05   1.05663257e-05]\n",
      "0  \n",
      "to cando dixen eu que as suas políticas agresoras do común cidadán matan e a sua cospedal alcui  ie \n",
      "[  3.13910782e-01   6.84304211e-11   9.15186014e-03   3.89205070e-06\n",
      "   4.27068240e-04   9.53990966e-05   5.12015577e-05   1.04688719e-04\n",
      "   1.62606841e-04   9.83367572e-05   9.98521409e-06   6.31982039e-06\n",
      "   1.55731177e-05   8.97717942e-03   1.99624766e-02   1.21232639e-04\n",
      "   4.77137696e-03   6.14076853e-04   6.51633292e-02   3.58549791e-04\n",
      "   1.62335520e-04   1.14956498e-02   8.92465189e-02   4.92447543e-05\n",
      "   1.99226633e-04   1.82781171e-03   1.11463678e-03   1.46659657e-01\n",
      "   2.34342411e-01   3.09222681e-03   3.47247726e-04   3.47345625e-03\n",
      "   2.94237714e-02   5.96109661e-04   4.18864144e-03   9.71541554e-03\n",
      "   5.98517800e-05   1.50113829e-05   2.20672191e-05   1.20125944e-04\n",
      "   7.42020681e-11   6.39154424e-11   1.92774995e-03   7.67305802e-11\n",
      "   1.27137415e-02   5.56131634e-11   4.26712632e-03   7.98761057e-11\n",
      "   2.10390543e-04   7.04924244e-11   1.96000263e-02   7.20385487e-11\n",
      "   5.59799628e-05   5.20049653e-04   5.47587813e-04]\n",
      "0  \n",
      "o cando dixen eu que as suas políticas agresoras do común cidadán matan e a sua cospedal alcui  ie  \n",
      "[  7.89591789e-01   2.54647432e-13   5.96237415e-03   4.55482564e-07\n",
      "   1.98740381e-05   2.85603219e-05   1.77188667e-05   6.92416006e-06\n",
      "   1.31971892e-05   8.12462986e-06   7.32505487e-06   6.12845452e-06\n",
      "   2.14123684e-05   4.73033782e-04   8.77475191e-04   3.29778413e-04\n",
      "   1.25626117e-04   3.49212278e-05   1.81923971e-01   9.17319539e-06\n",
      "   4.67010523e-06   7.60423811e-03   6.28771633e-03   2.79693040e-06\n",
      "   2.07321659e-06   1.20867502e-04   4.40506003e-04   7.34444533e-04\n",
      "   1.12845807e-03   9.97122261e-04   3.83451261e-05   5.52675592e-05\n",
      "   5.33938466e-04   6.80272467e-04   2.47072952e-04   5.81853674e-04\n",
      "   1.27860794e-05   2.29397051e-06   6.27360714e-06   2.01531043e-06\n",
      "   2.20004801e-13   2.74294855e-13   2.19487323e-04   2.45383005e-13\n",
      "   1.28508036e-04   2.32879417e-13   6.40553888e-04   2.60892165e-13\n",
      "   2.10811527e-06   2.42668570e-13   3.46629531e-05   2.56212315e-13\n",
      "   3.98405973e-06   2.80160893e-05   1.76919093e-06]\n",
      "0  \n"
     ]
    },
    {
     "name": "stdout",
     "output_type": "stream",
     "text": [
      " cando dixen eu que as suas políticas agresoras do común cidadán matan e a sua cospedal alcui  ie   \n",
      "[  3.61237489e-02   6.55861060e-11   8.52909591e-03   5.70533030e-06\n",
      "   1.51034910e-03   7.21118879e-04   7.27899387e-05   1.12317994e-05\n",
      "   1.11934960e-05   1.72465716e-05   1.24900698e-05   2.90920229e-06\n",
      "   1.96032015e-05   8.18335684e-04   1.25901341e-01   2.64307912e-02\n",
      "   1.25886379e-02   7.42209551e-04   5.07524669e-01   1.04188242e-04\n",
      "   1.48752276e-02   4.03802209e-02   1.83462389e-02   1.50350406e-05\n",
      "   2.44835628e-05   5.50457202e-02   1.83839891e-02   8.83430988e-03\n",
      "   8.45273659e-02   7.75562041e-03   8.20824716e-05   1.40286551e-03\n",
      "   1.51101472e-02   1.11502397e-03   4.70428634e-03   8.46202718e-04\n",
      "   1.40122953e-04   8.65625680e-06   7.05360289e-05   3.72911086e-06\n",
      "   7.10649664e-11   6.69536995e-11   3.06642894e-03   6.98203023e-11\n",
      "   2.81504053e-03   5.75108849e-11   2.55503925e-04   6.96157854e-11\n",
      "   1.92159023e-05   7.49013976e-11   5.69736469e-04   7.04777903e-11\n",
      "   2.48886245e-05   3.45479610e-04   8.41838846e-05]\n",
      "18 e\n",
      "cando dixen eu que as suas políticas agresoras do común cidadán matan e a sua cospedal alcui  ie   e\n",
      "[  6.69120019e-03   1.33699973e-09   5.07568941e-03   4.05777537e-05\n",
      "   1.79790804e-04   9.47533117e-05   3.65072519e-05   1.00600428e-03\n",
      "   1.20493700e-03   3.38714861e-04   3.22919310e-04   9.88604384e-04\n",
      "   2.43115355e-05   5.33636136e-04   1.24589968e-02   1.30122788e-02\n",
      "   2.47008651e-02   5.91895427e-04   3.89963128e-02   1.96536398e-03\n",
      "   6.53521121e-02   1.60513306e-03   6.16771579e-01   4.35791444e-03\n",
      "   1.79382681e-04   2.90224678e-03   6.72625424e-03   6.96266245e-04\n",
      "   2.97587980e-02   2.00488442e-03   2.53321021e-03   2.18367833e-03\n",
      "   7.10419118e-02   1.45410327e-02   6.26449881e-04   5.28098866e-02\n",
      "   5.32037702e-05   3.31642409e-03   5.81867644e-04   6.62689470e-03\n",
      "   1.46998747e-09   1.39991352e-09   6.16364938e-04   1.43250478e-09\n",
      "   1.04796619e-03   1.33621458e-09   2.47987267e-03   1.24886446e-09\n",
      "   1.59469200e-05   1.29596844e-09   1.60970131e-03   1.44347578e-09\n",
      "   5.63845504e-04   5.61114575e-04   1.72704211e-04]\n",
      "22 i\n"
     ]
    },
    {
     "data": {
      "text/plain": [
       "'se moito cando dixen eu que as suas políticas agresoras do común cidadán matan e a sua cospedal alcui  ie   ei'"
      ]
     },
     "execution_count": 128,
     "metadata": {},
     "output_type": "execute_result"
    }
   ],
   "source": [
    "import googleapiclient.discovery\n",
    "\n",
    "\n",
    "input_init=\"se moito cando dixen eu que as suas políticas agresoras do común cidadán matan e a sua cospedal alcu\"\n",
    "#input_init=\"pla panfletaria contra as leoninas taxas impostas polo ministro de xustiza actual malia que vulneran\"\n",
    "\n",
    "window_size = 100\n",
    "\n",
    "       \n",
    "\n",
    "response=predict_window(input_init[:window_size ],10,window_size)\n",
    "response"
   ]
  },
  {
   "cell_type": "code",
   "execution_count": null,
   "metadata": {
    "collapsed": true
   },
   "outputs": [],
   "source": []
  }
 ],
 "metadata": {
  "kernelspec": {
   "display_name": "Python 3",
   "language": "python",
   "name": "python3"
  },
  "language_info": {
   "codemirror_mode": {
    "name": "ipython",
    "version": 3
   },
   "file_extension": ".py",
   "mimetype": "text/x-python",
   "name": "python",
   "nbconvert_exporter": "python",
   "pygments_lexer": "ipython3",
   "version": "3.6.2"
  }
 },
 "nbformat": 4,
 "nbformat_minor": 2
}
