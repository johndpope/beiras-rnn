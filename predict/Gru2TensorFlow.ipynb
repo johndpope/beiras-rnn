{
 "cells": [
  {
   "cell_type": "markdown",
   "metadata": {},
   "source": [
    "https://github.com/tensorflow/serving/issues/310"
   ]
  },
  {
   "cell_type": "code",
   "execution_count": 1,
   "metadata": {
    "collapsed": false
   },
   "outputs": [
    {
     "name": "stderr",
     "output_type": "stream",
     "text": [
      "Using TensorFlow backend.\n"
     ]
    }
   ],
   "source": [
    "import sys\n",
    "sys.path.insert(0, '../aux/')\n",
    "from beiras_aux import load_coded_dictionaries, predict_next_chars, clean_text\n",
    "from keras.layers import Dense, Activation, GRU\n",
    "from keras.models import Sequential\n",
    "import os"
   ]
  },
  {
   "cell_type": "code",
   "execution_count": 2,
   "metadata": {
    "collapsed": true
   },
   "outputs": [],
   "source": [
    "# Input size of the network, the entry text must have the same length\n",
    "window_size = 100\n",
    "chars_to_indices, indices_to_chars = load_coded_dictionaries()"
   ]
  },
  {
   "cell_type": "code",
   "execution_count": 3,
   "metadata": {
    "collapsed": true
   },
   "outputs": [],
   "source": [
    "from keras.layers import InputLayer\n",
    "def create_gru_model( num_chars):\n",
    "    \"\"\"\n",
    "    Define the network\n",
    "    :param\n",
    "        numbers_chars .- Number chars using in the training process\n",
    "    :return:\n",
    "        model .- Model network defined\n",
    "    \"\"\"\n",
    "    model = Sequential()\n",
    "    # 1 Layer .- GRU layer 1 should be an GRU module with 200 hidden units\n",
    "    model.add(GRU(200, input_shape=(window_size, num_chars), return_sequences=True))\n",
    "    # 2 Layer .- GRU layer 2 should be an GRU module with 200 hidden units\n",
    "    model.add(GRU(200))\n",
    "    # 2 Layer .-  Dense, with number chars unit and softmax activation\n",
    "    model.add(Dense(num_chars, activation='softmax'))\n",
    "    return model"
   ]
  },
  {
   "cell_type": "code",
   "execution_count": 4,
   "metadata": {
    "collapsed": false
   },
   "outputs": [],
   "source": [
    "import keras.backend as K\n",
    "K.set_learning_phase(0)\n",
    "\n",
    "number_chars=len(chars_to_indices)\n",
    "model=create_gru_model(number_chars)\n",
    "model.load_weights('../model_weights/best_beiras_gru_textdata_weights.hdf5')\n"
   ]
  },
  {
   "cell_type": "markdown",
   "metadata": {},
   "source": [
    "https://blog.keras.io/keras-as-a-simplified-interface-to-tensorflow-tutorial.html"
   ]
  },
  {
   "cell_type": "code",
   "execution_count": 5,
   "metadata": {
    "collapsed": false
   },
   "outputs": [],
   "source": [
    "from tensorflow.python.saved_model import builder as saved_model_builder\n",
    "from tensorflow.python.saved_model import utils\n",
    "from tensorflow.python.saved_model import tag_constants, signature_constants\n",
    "from tensorflow.python.saved_model.signature_def_utils_impl import build_signature_def, predict_signature_def\n",
    "from tensorflow.contrib.session_bundle import exporter"
   ]
  },
  {
   "cell_type": "code",
   "execution_count": 6,
   "metadata": {
    "collapsed": false
   },
   "outputs": [
    {
     "name": "stdout",
     "output_type": "stream",
     "text": [
      "INFO:tensorflow:No assets to save.\n",
      "INFO:tensorflow:No assets to write.\n",
      "INFO:tensorflow:SavedModel written to: b'../export-tf/1/saved_model.pb'\n"
     ]
    }
   ],
   "source": [
    "export_path = \"../export-tf/1\"\n",
    "import shutil\n",
    "import os\n",
    "\n",
    "\n",
    "if os.path.isdir(export_path):\n",
    "    shutil.rmtree(export_path)\n",
    "builder = saved_model_builder.SavedModelBuilder(export_path)\n",
    "\n",
    "signature = predict_signature_def(inputs={'sequence': model.input},\n",
    "                                  outputs={'scores': model.output})\n",
    "\n",
    "with K.get_session() as sess:\n",
    "    builder.add_meta_graph_and_variables(sess=sess,\n",
    "                                         tags=[tag_constants.SERVING],\n",
    "                                         signature_def_map={'predict': signature})\n",
    "    builder.save()"
   ]
  },
  {
   "cell_type": "code",
   "execution_count": 7,
   "metadata": {
    "collapsed": false
   },
   "outputs": [
    {
     "name": "stdout",
     "output_type": "stream",
     "text": [
      "inputs {\n",
      "  key: \"inputs\"\n",
      "  value {\n",
      "    name: \"gru_1_input:0\"\n",
      "    dtype: DT_FLOAT\n",
      "    tensor_shape {\n",
      "      dim {\n",
      "        size: -1\n",
      "      }\n",
      "      dim {\n",
      "        size: 100\n",
      "      }\n",
      "      dim {\n",
      "        size: 55\n",
      "      }\n",
      "    }\n",
      "  }\n",
      "}\n",
      "outputs {\n",
      "  key: \"outputs\"\n",
      "  value {\n",
      "    name: \"dense_1/Softmax:0\"\n",
      "    dtype: DT_FLOAT\n",
      "    tensor_shape {\n",
      "      dim {\n",
      "        size: -1\n",
      "      }\n",
      "      dim {\n",
      "        size: 55\n",
      "      }\n",
      "    }\n",
      "  }\n",
      "}\n",
      "method_name: \"tensorflow/serving/predict\"\n",
      "\n",
      "{'predict': inputs {\n",
      "  key: \"inputs\"\n",
      "  value {\n",
      "    name: \"gru_1_input:0\"\n",
      "    dtype: DT_FLOAT\n",
      "    tensor_shape {\n",
      "      dim {\n",
      "        size: -1\n",
      "      }\n",
      "      dim {\n",
      "        size: 100\n",
      "      }\n",
      "      dim {\n",
      "        size: 55\n",
      "      }\n",
      "    }\n",
      "  }\n",
      "}\n",
      "outputs {\n",
      "  key: \"outputs\"\n",
      "  value {\n",
      "    name: \"dense_1/Softmax:0\"\n",
      "    dtype: DT_FLOAT\n",
      "    tensor_shape {\n",
      "      dim {\n",
      "        size: -1\n",
      "      }\n",
      "      dim {\n",
      "        size: 55\n",
      "      }\n",
      "    }\n",
      "  }\n",
      "}\n",
      "method_name: \"tensorflow/serving/predict\"\n",
      "}\n"
     ]
    }
   ],
   "source": [
    "print(signature)\n",
    "signature_def_map={'predict': signature}\n",
    "print(signature_def_map)\n",
    "    "
   ]
  },
  {
   "cell_type": "markdown",
   "metadata": {
    "collapsed": true
   },
   "source": [
    "Prerequisitos installas tennsoflow servein\n",
    "echo \"deb [arch=amd64] http://storage.googleapis.com/tensorflow-serving-apt stable tensorflow-model-server tensorflow-model-server-universal\" | sudo tee /etc/apt/sources.list.d/tensorflow-serving.list\n",
    "\n",
    "curl https://storage.googleapis.com/tensorflow-serving-apt/tensorflow-serving.release.pub.gpg | sudo apt-key add -\n",
    "\n",
    "sudo apt-get update && sudo apt-get install tensorflow-model-server\n",
    "\n",
    "\n",
    "Dentro do directorio ..export-tf creemos dir 1 e movemos todo ahi, esta seria version 1.\n",
    "\n",
    "\n",
    "tensorflow_model_server --port=9000 --model_name=mnist --model_base_path=/tmp/mnist_model/\n",
    "\n"
   ]
  },
  {
   "cell_type": "code",
   "execution_count": 7,
   "metadata": {
    "collapsed": false
   },
   "outputs": [
    {
     "name": "stdout",
     "output_type": "stream",
     "text": [
      "Tensor(\"gru_1_input:0\", shape=(?, 100, 55), dtype=float32)\n"
     ]
    }
   ],
   "source": [
    "print(model.input)"
   ]
  },
  {
   "cell_type": "code",
   "execution_count": 8,
   "metadata": {
    "collapsed": false
   },
   "outputs": [
    {
     "name": "stdout",
     "output_type": "stream",
     "text": [
      "Tensor(\"dense_1/Softmax:0\", shape=(?, 55), dtype=float32)\n"
     ]
    }
   ],
   "source": [
    "print(model.output)"
   ]
  },
  {
   "cell_type": "markdown",
   "metadata": {},
   "source": [
    "https://gist.github.com/avloss/01e43d208fbdb2c5b4f9b50e71617cc8"
   ]
  },
  {
   "cell_type": "markdown",
   "metadata": {},
   "source": [
    "tensorflow_model_server --port=9000 --model_name=default --model_base_path=/home/aind2/beiras-rnn/export-tf\n"
   ]
  },
  {
   "cell_type": "code",
   "execution_count": 1,
   "metadata": {
    "collapsed": false
   },
   "outputs": [],
   "source": [
    "import sys\n",
    "import numpy as np\n",
    "sys.path.insert(0, '../aux/')\n",
    "from beiras_aux import load_coded_dictionaries, predict_next_chars, clean_text\n",
    "\n",
    "\n",
    "input_init=\"se moito cando dixen eu que as suas políticas agresoras do común cidadán matan e a sua cospedal alcu\"\n",
    "window_size = 100\n",
    "chars_to_indices, indices_to_chars = load_coded_dictionaries()\n",
    "number_chars=len(chars_to_indices)\n",
    "input_clean=clean_text(input_init.lower())\n",
    "if len(input_clean) < window_size:\n",
    "    print(\"Sentence must have \", window_size, len(input_sentence))\n",
    "else:\n",
    "    input_clean = input_clean[:window_size]\n",
    "    x_test = np.zeros((1,window_size, number_chars))\n",
    "    for t, char in enumerate(input_clean):\n",
    "        x_test[0, t, chars_to_indices[char]] = 1.\n",
    "    \n",
    "    \n"
   ]
  },
  {
   "cell_type": "code",
   "execution_count": 2,
   "metadata": {
    "collapsed": false
   },
   "outputs": [
    {
     "data": {
      "text/plain": [
       "array([[[ 0.,  0.,  0., ...,  0.,  0.,  0.],\n",
       "        [ 0.,  0.,  0., ...,  0.,  0.,  0.],\n",
       "        [ 1.,  0.,  0., ...,  0.,  0.,  0.],\n",
       "        ..., \n",
       "        [ 0.,  0.,  0., ...,  0.,  0.,  0.],\n",
       "        [ 0.,  0.,  0., ...,  0.,  0.,  0.],\n",
       "        [ 0.,  0.,  0., ...,  0.,  0.,  0.]]])"
      ]
     },
     "execution_count": 2,
     "metadata": {},
     "output_type": "execute_result"
    }
   ],
   "source": [
    "x_test"
   ]
  },
  {
   "cell_type": "code",
   "execution_count": 8,
   "metadata": {
    "collapsed": false
   },
   "outputs": [
    {
     "data": {
      "text/plain": [
       "dtype('float64')"
      ]
     },
     "execution_count": 8,
     "metadata": {},
     "output_type": "execute_result"
    }
   ],
   "source": [
    "x_test.dtype"
   ]
  },
  {
   "cell_type": "markdown",
   "metadata": {},
   "source": [
    "O file pb describe o modelo\n",
    "Si cambio a builder.save(astext=True) xera o pb en modo texto"
   ]
  },
  {
   "cell_type": "markdown",
   "metadata": {},
   "source": [
    "https://medium.com/towards-data-science/how-to-deploy-machine-learning-models-with-tensorflow-part-2-containerize-it-db0ad7ca35a7\n",
    "\n",
    "git clone --recurse-submodules https://github.com/tensorflow/serving.git\n",
    "\n",
    "cd <tensorflow serving source folder>\n",
    "# 2\n",
    "mv ./tensorflow ./tensorflow_\n",
    "mv ./tensorflow_/tensorflow .\n",
    "# 3\n",
    "python -m grpc.tools.protoc ./tensorflow_serving/apis/*.proto --python_out=<path to GAN project> --grpc_python_out=<path to GAN project> --proto_path=.\n",
    "# 4\n",
    "mv ./tensorflow ./tensorflow_\n",
    "mv ./tensorflow_ ./tensorflow"
   ]
  },
  {
   "cell_type": "code",
   "execution_count": 10,
   "metadata": {
    "collapsed": false
   },
   "outputs": [
    {
     "data": {
      "text/plain": [
       "outputs {\n",
       "  key: \"outputs\"\n",
       "  value {\n",
       "    dtype: DT_FLOAT\n",
       "    tensor_shape {\n",
       "      dim {\n",
       "        size: 1\n",
       "      }\n",
       "      dim {\n",
       "        size: 55\n",
       "      }\n",
       "    }\n",
       "    float_val: 0.0024777590297162533\n",
       "    float_val: 5.75096123067026e-13\n",
       "    float_val: 0.0002520043053664267\n",
       "    float_val: 8.448802191196592e-08\n",
       "    float_val: 7.325351703002525e-07\n",
       "    float_val: 2.476176177879097e-06\n",
       "    float_val: 3.2858672511792975e-06\n",
       "    float_val: 1.2969632734893821e-05\n",
       "    float_val: 9.335383879260917e-07\n",
       "    float_val: 1.114238898480835e-06\n",
       "    float_val: 2.3529828752089088e-07\n",
       "    float_val: 3.3810536024247995e-06\n",
       "    float_val: 3.2726774179536733e-07\n",
       "    float_val: 1.7758783315002802e-06\n",
       "    float_val: 1.1227526556467637e-05\n",
       "    float_val: 0.012260417453944683\n",
       "    float_val: 2.9183180231484585e-05\n",
       "    float_val: 0.0027405295986682177\n",
       "    float_val: 3.139560067211278e-05\n",
       "    float_val: 0.0013600774109363556\n",
       "    float_val: 2.39297008874928e-07\n",
       "    float_val: 2.9464549697877374e-06\n",
       "    float_val: 1.0762010788312182e-05\n",
       "    float_val: 9.37606955631054e-07\n",
       "    float_val: 5.247431289490123e-08\n",
       "    float_val: 0.012012643739581108\n",
       "    float_val: 0.5542020797729492\n",
       "    float_val: 0.041104987263679504\n",
       "    float_val: 2.191565329212608e-07\n",
       "    float_val: 0.00045244753709994256\n",
       "    float_val: 6.547680300172942e-07\n",
       "    float_val: 0.0022364917676895857\n",
       "    float_val: 0.005199242848902941\n",
       "    float_val: 0.0024620937183499336\n",
       "    float_val: 7.624293374419722e-08\n",
       "    float_val: 0.00011120043927803636\n",
       "    float_val: 1.4151949017104926e-06\n",
       "    float_val: 2.6220348445349373e-05\n",
       "    float_val: 4.4152105260764074e-07\n",
       "    float_val: 6.876463885419071e-06\n",
       "    float_val: 5.558756037936374e-13\n",
       "    float_val: 4.606437301914179e-13\n",
       "    float_val: 1.2085602918432414e-07\n",
       "    float_val: 4.936427785637298e-13\n",
       "    float_val: 7.757971616229042e-07\n",
       "    float_val: 4.551937169208764e-13\n",
       "    float_val: 2.257703954455792e-06\n",
       "    float_val: 5.012845065259508e-13\n",
       "    float_val: 0.3629731237888336\n",
       "    float_val: 4.523979931989053e-13\n",
       "    float_val: 2.692896430289693e-07\n",
       "    float_val: 4.819702579747509e-13\n",
       "    float_val: 1.1384323670426966e-06\n",
       "    float_val: 2.395477167738136e-07\n",
       "    float_val: 1.4564304251507565e-07\n",
       "  }\n",
       "}"
      ]
     },
     "execution_count": 10,
     "metadata": {},
     "output_type": "execute_result"
    }
   ],
   "source": [
    "from tensorflow_serving.apis import predict_pb2\n",
    "from tensorflow_serving.apis import prediction_service_pb2\n",
    "from tensorflow_serving.apis import prediction_service_pb2_grpc\n",
    "import tensorflow as tf\n",
    "import grpc\n",
    "\n",
    "channel = grpc.insecure_channel(\"localhost:\" + str(9000))\n",
    "stub = prediction_service_pb2_grpc.PredictionServiceStub(channel)\n",
    "request = predict_pb2.PredictRequest() \n",
    "request.model_spec.name = 'default' \n",
    "request.model_spec.signature_name = 'predict' \n",
    "\n",
    "request.inputs['inputs'].CopyFrom( \n",
    "        tf.contrib.util.make_tensor_proto(\n",
    "            x_test,dtype='float32'))\n",
    "result=stub.Predict(request)\n"
   ]
  },
  {
   "cell_type": "code",
   "execution_count": 24,
   "metadata": {
    "collapsed": false
   },
   "outputs": [
    {
     "data": {
      "text/plain": [
       "'m'"
      ]
     },
     "execution_count": 24,
     "metadata": {},
     "output_type": "execute_result"
    }
   ],
   "source": [
    "test_predict=np.array(result.outputs['outputs'].float_val)\n",
    "r = np.argmax(test_predict)  # predict class of each test input\n",
    "d = indices_to_chars[r]\n",
    "d"
   ]
  },
  {
   "cell_type": "code",
   "execution_count": 28,
   "metadata": {
    "collapsed": true
   },
   "outputs": [],
   "source": [
    "def predict_one(text_predict,stub):\n",
    "    x_test = np.zeros((1,window_size, number_chars))\n",
    "    for t, char in enumerate(input_clean):\n",
    "        x_test[0, t, chars_to_indices[char]] = 1.\n",
    "    request = predict_pb2.PredictRequest() \n",
    "    request.model_spec.name = 'default' \n",
    "    request.model_spec.signature_name = 'predict' \n",
    "    request.inputs['inputs'].CopyFrom( \n",
    "        tf.contrib.util.make_tensor_proto(\n",
    "            x_test,dtype='float32'))\n",
    "    result=stub.Predict(request)\n",
    "    test_predict=np.array(result.outputs['outputs'].float_val)\n",
    "    r = np.argmax(test_predict)  # predict class of each test input\n",
    "    return (indices_to_chars[r])"
   ]
  },
  {
   "cell_type": "code",
   "execution_count": 29,
   "metadata": {
    "collapsed": false
   },
   "outputs": [
    {
     "name": "stdout",
     "output_type": "stream",
     "text": [
      "m\n"
     ]
    }
   ],
   "source": [
    "input_init=\"se moito cando dixen eu que as suas políticas agresoras do común cidadán matan e a sua cospedal alcu\"\n",
    "window_size = 100\n",
    "chars_to_indices, indices_to_chars = load_coded_dictionaries()\n",
    "number_chars=len(chars_to_indices)\n",
    "input_clean=clean_text(input_init.lower())\n",
    "channel = grpc.insecure_channel(\"localhost:\" + str(9000))\n",
    "stub = prediction_service_pb2_grpc.PredictionServiceStub(channel)\n",
    "d=predict_one(input_clean,stub)\n",
    "print(d)"
   ]
  },
  {
   "cell_type": "code",
   "execution_count": 39,
   "metadata": {
    "collapsed": true
   },
   "outputs": [],
   "source": [
    "def predict_window(text_predict,number_predict):\n",
    "    chars_to_indices, indices_to_chars = load_coded_dictionaries()\n",
    "    input_clean=clean_text(text_predict.lower())\n",
    "    channel = grpc.insecure_channel(\"localhost:\" + str(9000))\n",
    "    stub = prediction_service_pb2_grpc.PredictionServiceStub(channel)\n",
    "    for i in range(number_predict):\n",
    "        print(i)\n",
    "        print(input_clean)\n",
    "        print(input_clean[i:])\n",
    "        d=predict_one(input_clean[i:],stub)\n",
    "        input_clean+=d\n",
    "    return input_clean\n",
    "        "
   ]
  },
  {
   "cell_type": "code",
   "execution_count": 40,
   "metadata": {
    "collapsed": false
   },
   "outputs": [
    {
     "name": "stdout",
     "output_type": "stream",
     "text": [
      "0\n",
      "se moito cando dixen eu que as suas políticas agresoras do común cidadán matan e a sua cospedal alcu\n",
      "se moito cando dixen eu que as suas políticas agresoras do común cidadán matan e a sua cospedal alcu\n",
      "1\n",
      "se moito cando dixen eu que as suas políticas agresoras do común cidadán matan e a sua cospedal alcum\n",
      "e moito cando dixen eu que as suas políticas agresoras do común cidadán matan e a sua cospedal alcum\n",
      "2\n",
      "se moito cando dixen eu que as suas políticas agresoras do común cidadán matan e a sua cospedal alcumm\n",
      " moito cando dixen eu que as suas políticas agresoras do común cidadán matan e a sua cospedal alcumm\n",
      "3\n",
      "se moito cando dixen eu que as suas políticas agresoras do común cidadán matan e a sua cospedal alcummm\n",
      "moito cando dixen eu que as suas políticas agresoras do común cidadán matan e a sua cospedal alcummm\n",
      "4\n",
      "se moito cando dixen eu que as suas políticas agresoras do común cidadán matan e a sua cospedal alcummmm\n",
      "oito cando dixen eu que as suas políticas agresoras do común cidadán matan e a sua cospedal alcummmm\n",
      "5\n",
      "se moito cando dixen eu que as suas políticas agresoras do común cidadán matan e a sua cospedal alcummmmm\n",
      "ito cando dixen eu que as suas políticas agresoras do común cidadán matan e a sua cospedal alcummmmm\n",
      "6\n",
      "se moito cando dixen eu que as suas políticas agresoras do común cidadán matan e a sua cospedal alcummmmmm\n",
      "to cando dixen eu que as suas políticas agresoras do común cidadán matan e a sua cospedal alcummmmmm\n",
      "7\n",
      "se moito cando dixen eu que as suas políticas agresoras do común cidadán matan e a sua cospedal alcummmmmmm\n",
      "o cando dixen eu que as suas políticas agresoras do común cidadán matan e a sua cospedal alcummmmmmm\n",
      "8\n",
      "se moito cando dixen eu que as suas políticas agresoras do común cidadán matan e a sua cospedal alcummmmmmmm\n",
      " cando dixen eu que as suas políticas agresoras do común cidadán matan e a sua cospedal alcummmmmmmm\n",
      "9\n",
      "se moito cando dixen eu que as suas políticas agresoras do común cidadán matan e a sua cospedal alcummmmmmmmm\n",
      "cando dixen eu que as suas políticas agresoras do común cidadán matan e a sua cospedal alcummmmmmmmm\n",
      "10\n",
      "se moito cando dixen eu que as suas políticas agresoras do común cidadán matan e a sua cospedal alcummmmmmmmmm\n",
      "ando dixen eu que as suas políticas agresoras do común cidadán matan e a sua cospedal alcummmmmmmmmm\n",
      "11\n",
      "se moito cando dixen eu que as suas políticas agresoras do común cidadán matan e a sua cospedal alcummmmmmmmmmm\n",
      "ndo dixen eu que as suas políticas agresoras do común cidadán matan e a sua cospedal alcummmmmmmmmmm\n",
      "12\n",
      "se moito cando dixen eu que as suas políticas agresoras do común cidadán matan e a sua cospedal alcummmmmmmmmmmm\n",
      "do dixen eu que as suas políticas agresoras do común cidadán matan e a sua cospedal alcummmmmmmmmmmm\n",
      "13\n",
      "se moito cando dixen eu que as suas políticas agresoras do común cidadán matan e a sua cospedal alcummmmmmmmmmmmm\n",
      "o dixen eu que as suas políticas agresoras do común cidadán matan e a sua cospedal alcummmmmmmmmmmmm\n",
      "14\n",
      "se moito cando dixen eu que as suas políticas agresoras do común cidadán matan e a sua cospedal alcummmmmmmmmmmmmm\n",
      " dixen eu que as suas políticas agresoras do común cidadán matan e a sua cospedal alcummmmmmmmmmmmmm\n",
      "15\n",
      "se moito cando dixen eu que as suas políticas agresoras do común cidadán matan e a sua cospedal alcummmmmmmmmmmmmmm\n",
      "dixen eu que as suas políticas agresoras do común cidadán matan e a sua cospedal alcummmmmmmmmmmmmmm\n",
      "16\n",
      "se moito cando dixen eu que as suas políticas agresoras do común cidadán matan e a sua cospedal alcummmmmmmmmmmmmmmm\n",
      "ixen eu que as suas políticas agresoras do común cidadán matan e a sua cospedal alcummmmmmmmmmmmmmmm\n",
      "17\n",
      "se moito cando dixen eu que as suas políticas agresoras do común cidadán matan e a sua cospedal alcummmmmmmmmmmmmmmmm\n",
      "xen eu que as suas políticas agresoras do común cidadán matan e a sua cospedal alcummmmmmmmmmmmmmmmm\n",
      "18\n",
      "se moito cando dixen eu que as suas políticas agresoras do común cidadán matan e a sua cospedal alcummmmmmmmmmmmmmmmmm\n",
      "en eu que as suas políticas agresoras do común cidadán matan e a sua cospedal alcummmmmmmmmmmmmmmmmm\n",
      "19\n",
      "se moito cando dixen eu que as suas políticas agresoras do común cidadán matan e a sua cospedal alcummmmmmmmmmmmmmmmmmm\n",
      "n eu que as suas políticas agresoras do común cidadán matan e a sua cospedal alcummmmmmmmmmmmmmmmmmm\n",
      "20\n",
      "se moito cando dixen eu que as suas políticas agresoras do común cidadán matan e a sua cospedal alcummmmmmmmmmmmmmmmmmmm\n",
      " eu que as suas políticas agresoras do común cidadán matan e a sua cospedal alcummmmmmmmmmmmmmmmmmmm\n",
      "21\n",
      "se moito cando dixen eu que as suas políticas agresoras do común cidadán matan e a sua cospedal alcummmmmmmmmmmmmmmmmmmmm\n",
      "eu que as suas políticas agresoras do común cidadán matan e a sua cospedal alcummmmmmmmmmmmmmmmmmmmm\n",
      "22\n",
      "se moito cando dixen eu que as suas políticas agresoras do común cidadán matan e a sua cospedal alcummmmmmmmmmmmmmmmmmmmmm\n",
      "u que as suas políticas agresoras do común cidadán matan e a sua cospedal alcummmmmmmmmmmmmmmmmmmmmm\n",
      "23\n",
      "se moito cando dixen eu que as suas políticas agresoras do común cidadán matan e a sua cospedal alcummmmmmmmmmmmmmmmmmmmmmm\n",
      " que as suas políticas agresoras do común cidadán matan e a sua cospedal alcummmmmmmmmmmmmmmmmmmmmmm\n",
      "24\n",
      "se moito cando dixen eu que as suas políticas agresoras do común cidadán matan e a sua cospedal alcummmmmmmmmmmmmmmmmmmmmmmm\n",
      "que as suas políticas agresoras do común cidadán matan e a sua cospedal alcummmmmmmmmmmmmmmmmmmmmmmm\n",
      "25\n",
      "se moito cando dixen eu que as suas políticas agresoras do común cidadán matan e a sua cospedal alcummmmmmmmmmmmmmmmmmmmmmmmm\n",
      "ue as suas políticas agresoras do común cidadán matan e a sua cospedal alcummmmmmmmmmmmmmmmmmmmmmmmm\n",
      "26\n",
      "se moito cando dixen eu que as suas políticas agresoras do común cidadán matan e a sua cospedal alcummmmmmmmmmmmmmmmmmmmmmmmmm\n",
      "e as suas políticas agresoras do común cidadán matan e a sua cospedal alcummmmmmmmmmmmmmmmmmmmmmmmmm\n",
      "27\n",
      "se moito cando dixen eu que as suas políticas agresoras do común cidadán matan e a sua cospedal alcummmmmmmmmmmmmmmmmmmmmmmmmmm\n",
      " as suas políticas agresoras do común cidadán matan e a sua cospedal alcummmmmmmmmmmmmmmmmmmmmmmmmmm\n",
      "28\n",
      "se moito cando dixen eu que as suas políticas agresoras do común cidadán matan e a sua cospedal alcummmmmmmmmmmmmmmmmmmmmmmmmmmm\n",
      "as suas políticas agresoras do común cidadán matan e a sua cospedal alcummmmmmmmmmmmmmmmmmmmmmmmmmmm\n",
      "29\n",
      "se moito cando dixen eu que as suas políticas agresoras do común cidadán matan e a sua cospedal alcummmmmmmmmmmmmmmmmmmmmmmmmmmmm\n",
      "s suas políticas agresoras do común cidadán matan e a sua cospedal alcummmmmmmmmmmmmmmmmmmmmmmmmmmmm\n",
      "30\n",
      "se moito cando dixen eu que as suas políticas agresoras do común cidadán matan e a sua cospedal alcummmmmmmmmmmmmmmmmmmmmmmmmmmmmm\n",
      " suas políticas agresoras do común cidadán matan e a sua cospedal alcummmmmmmmmmmmmmmmmmmmmmmmmmmmmm\n",
      "31\n",
      "se moito cando dixen eu que as suas políticas agresoras do común cidadán matan e a sua cospedal alcummmmmmmmmmmmmmmmmmmmmmmmmmmmmmm\n",
      "suas políticas agresoras do común cidadán matan e a sua cospedal alcummmmmmmmmmmmmmmmmmmmmmmmmmmmmmm\n",
      "32\n",
      "se moito cando dixen eu que as suas políticas agresoras do común cidadán matan e a sua cospedal alcummmmmmmmmmmmmmmmmmmmmmmmmmmmmmmm\n",
      "uas políticas agresoras do común cidadán matan e a sua cospedal alcummmmmmmmmmmmmmmmmmmmmmmmmmmmmmmm\n",
      "33\n",
      "se moito cando dixen eu que as suas políticas agresoras do común cidadán matan e a sua cospedal alcummmmmmmmmmmmmmmmmmmmmmmmmmmmmmmmm\n",
      "as políticas agresoras do común cidadán matan e a sua cospedal alcummmmmmmmmmmmmmmmmmmmmmmmmmmmmmmmm\n",
      "34\n",
      "se moito cando dixen eu que as suas políticas agresoras do común cidadán matan e a sua cospedal alcummmmmmmmmmmmmmmmmmmmmmmmmmmmmmmmmm\n",
      "s políticas agresoras do común cidadán matan e a sua cospedal alcummmmmmmmmmmmmmmmmmmmmmmmmmmmmmmmmm\n",
      "35\n",
      "se moito cando dixen eu que as suas políticas agresoras do común cidadán matan e a sua cospedal alcummmmmmmmmmmmmmmmmmmmmmmmmmmmmmmmmmm\n",
      " políticas agresoras do común cidadán matan e a sua cospedal alcummmmmmmmmmmmmmmmmmmmmmmmmmmmmmmmmmm\n",
      "36\n",
      "se moito cando dixen eu que as suas políticas agresoras do común cidadán matan e a sua cospedal alcummmmmmmmmmmmmmmmmmmmmmmmmmmmmmmmmmmm\n",
      "políticas agresoras do común cidadán matan e a sua cospedal alcummmmmmmmmmmmmmmmmmmmmmmmmmmmmmmmmmmm\n",
      "37\n",
      "se moito cando dixen eu que as suas políticas agresoras do común cidadán matan e a sua cospedal alcummmmmmmmmmmmmmmmmmmmmmmmmmmmmmmmmmmmm\n",
      "olíticas agresoras do común cidadán matan e a sua cospedal alcummmmmmmmmmmmmmmmmmmmmmmmmmmmmmmmmmmmm\n",
      "38\n",
      "se moito cando dixen eu que as suas políticas agresoras do común cidadán matan e a sua cospedal alcummmmmmmmmmmmmmmmmmmmmmmmmmmmmmmmmmmmmm\n",
      "líticas agresoras do común cidadán matan e a sua cospedal alcummmmmmmmmmmmmmmmmmmmmmmmmmmmmmmmmmmmmm\n",
      "39\n",
      "se moito cando dixen eu que as suas políticas agresoras do común cidadán matan e a sua cospedal alcummmmmmmmmmmmmmmmmmmmmmmmmmmmmmmmmmmmmmm\n",
      "íticas agresoras do común cidadán matan e a sua cospedal alcummmmmmmmmmmmmmmmmmmmmmmmmmmmmmmmmmmmmmm\n",
      "40\n",
      "se moito cando dixen eu que as suas políticas agresoras do común cidadán matan e a sua cospedal alcummmmmmmmmmmmmmmmmmmmmmmmmmmmmmmmmmmmmmmm\n",
      "ticas agresoras do común cidadán matan e a sua cospedal alcummmmmmmmmmmmmmmmmmmmmmmmmmmmmmmmmmmmmmmm\n",
      "41\n",
      "se moito cando dixen eu que as suas políticas agresoras do común cidadán matan e a sua cospedal alcummmmmmmmmmmmmmmmmmmmmmmmmmmmmmmmmmmmmmmmm\n",
      "icas agresoras do común cidadán matan e a sua cospedal alcummmmmmmmmmmmmmmmmmmmmmmmmmmmmmmmmmmmmmmmm\n",
      "42\n",
      "se moito cando dixen eu que as suas políticas agresoras do común cidadán matan e a sua cospedal alcummmmmmmmmmmmmmmmmmmmmmmmmmmmmmmmmmmmmmmmmm\n",
      "cas agresoras do común cidadán matan e a sua cospedal alcummmmmmmmmmmmmmmmmmmmmmmmmmmmmmmmmmmmmmmmmm\n",
      "43\n",
      "se moito cando dixen eu que as suas políticas agresoras do común cidadán matan e a sua cospedal alcummmmmmmmmmmmmmmmmmmmmmmmmmmmmmmmmmmmmmmmmmm\n",
      "as agresoras do común cidadán matan e a sua cospedal alcummmmmmmmmmmmmmmmmmmmmmmmmmmmmmmmmmmmmmmmmmm\n",
      "44\n",
      "se moito cando dixen eu que as suas políticas agresoras do común cidadán matan e a sua cospedal alcummmmmmmmmmmmmmmmmmmmmmmmmmmmmmmmmmmmmmmmmmmm\n",
      "s agresoras do común cidadán matan e a sua cospedal alcummmmmmmmmmmmmmmmmmmmmmmmmmmmmmmmmmmmmmmmmmmm\n",
      "45\n",
      "se moito cando dixen eu que as suas políticas agresoras do común cidadán matan e a sua cospedal alcummmmmmmmmmmmmmmmmmmmmmmmmmmmmmmmmmmmmmmmmmmmm\n",
      " agresoras do común cidadán matan e a sua cospedal alcummmmmmmmmmmmmmmmmmmmmmmmmmmmmmmmmmmmmmmmmmmmm\n",
      "46\n",
      "se moito cando dixen eu que as suas políticas agresoras do común cidadán matan e a sua cospedal alcummmmmmmmmmmmmmmmmmmmmmmmmmmmmmmmmmmmmmmmmmmmmm\n",
      "agresoras do común cidadán matan e a sua cospedal alcummmmmmmmmmmmmmmmmmmmmmmmmmmmmmmmmmmmmmmmmmmmmm\n",
      "47\n",
      "se moito cando dixen eu que as suas políticas agresoras do común cidadán matan e a sua cospedal alcummmmmmmmmmmmmmmmmmmmmmmmmmmmmmmmmmmmmmmmmmmmmmm\n",
      "gresoras do común cidadán matan e a sua cospedal alcummmmmmmmmmmmmmmmmmmmmmmmmmmmmmmmmmmmmmmmmmmmmmm\n",
      "48\n",
      "se moito cando dixen eu que as suas políticas agresoras do común cidadán matan e a sua cospedal alcummmmmmmmmmmmmmmmmmmmmmmmmmmmmmmmmmmmmmmmmmmmmmmm\n",
      "resoras do común cidadán matan e a sua cospedal alcummmmmmmmmmmmmmmmmmmmmmmmmmmmmmmmmmmmmmmmmmmmmmmm\n",
      "49\n",
      "se moito cando dixen eu que as suas políticas agresoras do común cidadán matan e a sua cospedal alcummmmmmmmmmmmmmmmmmmmmmmmmmmmmmmmmmmmmmmmmmmmmmmmm\n",
      "esoras do común cidadán matan e a sua cospedal alcummmmmmmmmmmmmmmmmmmmmmmmmmmmmmmmmmmmmmmmmmmmmmmmm\n",
      "50\n",
      "se moito cando dixen eu que as suas políticas agresoras do común cidadán matan e a sua cospedal alcummmmmmmmmmmmmmmmmmmmmmmmmmmmmmmmmmmmmmmmmmmmmmmmmm\n",
      "soras do común cidadán matan e a sua cospedal alcummmmmmmmmmmmmmmmmmmmmmmmmmmmmmmmmmmmmmmmmmmmmmmmmm\n",
      "51\n",
      "se moito cando dixen eu que as suas políticas agresoras do común cidadán matan e a sua cospedal alcummmmmmmmmmmmmmmmmmmmmmmmmmmmmmmmmmmmmmmmmmmmmmmmmmm\n",
      "oras do común cidadán matan e a sua cospedal alcummmmmmmmmmmmmmmmmmmmmmmmmmmmmmmmmmmmmmmmmmmmmmmmmmm\n",
      "52\n",
      "se moito cando dixen eu que as suas políticas agresoras do común cidadán matan e a sua cospedal alcummmmmmmmmmmmmmmmmmmmmmmmmmmmmmmmmmmmmmmmmmmmmmmmmmmm\n",
      "ras do común cidadán matan e a sua cospedal alcummmmmmmmmmmmmmmmmmmmmmmmmmmmmmmmmmmmmmmmmmmmmmmmmmmm\n",
      "53\n",
      "se moito cando dixen eu que as suas políticas agresoras do común cidadán matan e a sua cospedal alcummmmmmmmmmmmmmmmmmmmmmmmmmmmmmmmmmmmmmmmmmmmmmmmmmmmm\n",
      "as do común cidadán matan e a sua cospedal alcummmmmmmmmmmmmmmmmmmmmmmmmmmmmmmmmmmmmmmmmmmmmmmmmmmmm\n",
      "54\n",
      "se moito cando dixen eu que as suas políticas agresoras do común cidadán matan e a sua cospedal alcummmmmmmmmmmmmmmmmmmmmmmmmmmmmmmmmmmmmmmmmmmmmmmmmmmmmm\n",
      "s do común cidadán matan e a sua cospedal alcummmmmmmmmmmmmmmmmmmmmmmmmmmmmmmmmmmmmmmmmmmmmmmmmmmmmm\n",
      "55\n",
      "se moito cando dixen eu que as suas políticas agresoras do común cidadán matan e a sua cospedal alcummmmmmmmmmmmmmmmmmmmmmmmmmmmmmmmmmmmmmmmmmmmmmmmmmmmmmm\n",
      " do común cidadán matan e a sua cospedal alcummmmmmmmmmmmmmmmmmmmmmmmmmmmmmmmmmmmmmmmmmmmmmmmmmmmmmm\n",
      "56\n",
      "se moito cando dixen eu que as suas políticas agresoras do común cidadán matan e a sua cospedal alcummmmmmmmmmmmmmmmmmmmmmmmmmmmmmmmmmmmmmmmmmmmmmmmmmmmmmmm\n",
      "do común cidadán matan e a sua cospedal alcummmmmmmmmmmmmmmmmmmmmmmmmmmmmmmmmmmmmmmmmmmmmmmmmmmmmmmm\n",
      "57\n",
      "se moito cando dixen eu que as suas políticas agresoras do común cidadán matan e a sua cospedal alcummmmmmmmmmmmmmmmmmmmmmmmmmmmmmmmmmmmmmmmmmmmmmmmmmmmmmmmm\n",
      "o común cidadán matan e a sua cospedal alcummmmmmmmmmmmmmmmmmmmmmmmmmmmmmmmmmmmmmmmmmmmmmmmmmmmmmmmm\n",
      "58\n",
      "se moito cando dixen eu que as suas políticas agresoras do común cidadán matan e a sua cospedal alcummmmmmmmmmmmmmmmmmmmmmmmmmmmmmmmmmmmmmmmmmmmmmmmmmmmmmmmmm\n",
      " común cidadán matan e a sua cospedal alcummmmmmmmmmmmmmmmmmmmmmmmmmmmmmmmmmmmmmmmmmmmmmmmmmmmmmmmmm\n",
      "59\n",
      "se moito cando dixen eu que as suas políticas agresoras do común cidadán matan e a sua cospedal alcummmmmmmmmmmmmmmmmmmmmmmmmmmmmmmmmmmmmmmmmmmmmmmmmmmmmmmmmmm\n",
      "común cidadán matan e a sua cospedal alcummmmmmmmmmmmmmmmmmmmmmmmmmmmmmmmmmmmmmmmmmmmmmmmmmmmmmmmmmm\n",
      "60\n",
      "se moito cando dixen eu que as suas políticas agresoras do común cidadán matan e a sua cospedal alcummmmmmmmmmmmmmmmmmmmmmmmmmmmmmmmmmmmmmmmmmmmmmmmmmmmmmmmmmmm\n",
      "omún cidadán matan e a sua cospedal alcummmmmmmmmmmmmmmmmmmmmmmmmmmmmmmmmmmmmmmmmmmmmmmmmmmmmmmmmmmm\n",
      "61\n",
      "se moito cando dixen eu que as suas políticas agresoras do común cidadán matan e a sua cospedal alcummmmmmmmmmmmmmmmmmmmmmmmmmmmmmmmmmmmmmmmmmmmmmmmmmmmmmmmmmmmm\n",
      "mún cidadán matan e a sua cospedal alcummmmmmmmmmmmmmmmmmmmmmmmmmmmmmmmmmmmmmmmmmmmmmmmmmmmmmmmmmmmm\n",
      "62\n",
      "se moito cando dixen eu que as suas políticas agresoras do común cidadán matan e a sua cospedal alcummmmmmmmmmmmmmmmmmmmmmmmmmmmmmmmmmmmmmmmmmmmmmmmmmmmmmmmmmmmmm\n",
      "ún cidadán matan e a sua cospedal alcummmmmmmmmmmmmmmmmmmmmmmmmmmmmmmmmmmmmmmmmmmmmmmmmmmmmmmmmmmmmm\n",
      "63\n",
      "se moito cando dixen eu que as suas políticas agresoras do común cidadán matan e a sua cospedal alcummmmmmmmmmmmmmmmmmmmmmmmmmmmmmmmmmmmmmmmmmmmmmmmmmmmmmmmmmmmmmm\n",
      "n cidadán matan e a sua cospedal alcummmmmmmmmmmmmmmmmmmmmmmmmmmmmmmmmmmmmmmmmmmmmmmmmmmmmmmmmmmmmmm\n",
      "64\n",
      "se moito cando dixen eu que as suas políticas agresoras do común cidadán matan e a sua cospedal alcummmmmmmmmmmmmmmmmmmmmmmmmmmmmmmmmmmmmmmmmmmmmmmmmmmmmmmmmmmmmmmm\n",
      " cidadán matan e a sua cospedal alcummmmmmmmmmmmmmmmmmmmmmmmmmmmmmmmmmmmmmmmmmmmmmmmmmmmmmmmmmmmmmmm\n",
      "65\n",
      "se moito cando dixen eu que as suas políticas agresoras do común cidadán matan e a sua cospedal alcummmmmmmmmmmmmmmmmmmmmmmmmmmmmmmmmmmmmmmmmmmmmmmmmmmmmmmmmmmmmmmmm\n",
      "cidadán matan e a sua cospedal alcummmmmmmmmmmmmmmmmmmmmmmmmmmmmmmmmmmmmmmmmmmmmmmmmmmmmmmmmmmmmmmmm\n",
      "66\n",
      "se moito cando dixen eu que as suas políticas agresoras do común cidadán matan e a sua cospedal alcummmmmmmmmmmmmmmmmmmmmmmmmmmmmmmmmmmmmmmmmmmmmmmmmmmmmmmmmmmmmmmmmm\n",
      "idadán matan e a sua cospedal alcummmmmmmmmmmmmmmmmmmmmmmmmmmmmmmmmmmmmmmmmmmmmmmmmmmmmmmmmmmmmmmmmm\n",
      "67\n",
      "se moito cando dixen eu que as suas políticas agresoras do común cidadán matan e a sua cospedal alcummmmmmmmmmmmmmmmmmmmmmmmmmmmmmmmmmmmmmmmmmmmmmmmmmmmmmmmmmmmmmmmmmm\n",
      "dadán matan e a sua cospedal alcummmmmmmmmmmmmmmmmmmmmmmmmmmmmmmmmmmmmmmmmmmmmmmmmmmmmmmmmmmmmmmmmmm\n",
      "68\n",
      "se moito cando dixen eu que as suas políticas agresoras do común cidadán matan e a sua cospedal alcummmmmmmmmmmmmmmmmmmmmmmmmmmmmmmmmmmmmmmmmmmmmmmmmmmmmmmmmmmmmmmmmmmm\n",
      "adán matan e a sua cospedal alcummmmmmmmmmmmmmmmmmmmmmmmmmmmmmmmmmmmmmmmmmmmmmmmmmmmmmmmmmmmmmmmmmmm\n",
      "69\n",
      "se moito cando dixen eu que as suas políticas agresoras do común cidadán matan e a sua cospedal alcummmmmmmmmmmmmmmmmmmmmmmmmmmmmmmmmmmmmmmmmmmmmmmmmmmmmmmmmmmmmmmmmmmmm\n",
      "dán matan e a sua cospedal alcummmmmmmmmmmmmmmmmmmmmmmmmmmmmmmmmmmmmmmmmmmmmmmmmmmmmmmmmmmmmmmmmmmmm\n",
      "70\n",
      "se moito cando dixen eu que as suas políticas agresoras do común cidadán matan e a sua cospedal alcummmmmmmmmmmmmmmmmmmmmmmmmmmmmmmmmmmmmmmmmmmmmmmmmmmmmmmmmmmmmmmmmmmmmm\n",
      "án matan e a sua cospedal alcummmmmmmmmmmmmmmmmmmmmmmmmmmmmmmmmmmmmmmmmmmmmmmmmmmmmmmmmmmmmmmmmmmmmm\n",
      "71\n",
      "se moito cando dixen eu que as suas políticas agresoras do común cidadán matan e a sua cospedal alcummmmmmmmmmmmmmmmmmmmmmmmmmmmmmmmmmmmmmmmmmmmmmmmmmmmmmmmmmmmmmmmmmmmmmm\n",
      "n matan e a sua cospedal alcummmmmmmmmmmmmmmmmmmmmmmmmmmmmmmmmmmmmmmmmmmmmmmmmmmmmmmmmmmmmmmmmmmmmmm\n",
      "72\n",
      "se moito cando dixen eu que as suas políticas agresoras do común cidadán matan e a sua cospedal alcummmmmmmmmmmmmmmmmmmmmmmmmmmmmmmmmmmmmmmmmmmmmmmmmmmmmmmmmmmmmmmmmmmmmmmm\n",
      " matan e a sua cospedal alcummmmmmmmmmmmmmmmmmmmmmmmmmmmmmmmmmmmmmmmmmmmmmmmmmmmmmmmmmmmmmmmmmmmmmmm\n",
      "73\n",
      "se moito cando dixen eu que as suas políticas agresoras do común cidadán matan e a sua cospedal alcummmmmmmmmmmmmmmmmmmmmmmmmmmmmmmmmmmmmmmmmmmmmmmmmmmmmmmmmmmmmmmmmmmmmmmmm\n",
      "matan e a sua cospedal alcummmmmmmmmmmmmmmmmmmmmmmmmmmmmmmmmmmmmmmmmmmmmmmmmmmmmmmmmmmmmmmmmmmmmmmmm\n",
      "74\n",
      "se moito cando dixen eu que as suas políticas agresoras do común cidadán matan e a sua cospedal alcummmmmmmmmmmmmmmmmmmmmmmmmmmmmmmmmmmmmmmmmmmmmmmmmmmmmmmmmmmmmmmmmmmmmmmmmm\n",
      "atan e a sua cospedal alcummmmmmmmmmmmmmmmmmmmmmmmmmmmmmmmmmmmmmmmmmmmmmmmmmmmmmmmmmmmmmmmmmmmmmmmmm\n",
      "75\n",
      "se moito cando dixen eu que as suas políticas agresoras do común cidadán matan e a sua cospedal alcummmmmmmmmmmmmmmmmmmmmmmmmmmmmmmmmmmmmmmmmmmmmmmmmmmmmmmmmmmmmmmmmmmmmmmmmmm\n",
      "tan e a sua cospedal alcummmmmmmmmmmmmmmmmmmmmmmmmmmmmmmmmmmmmmmmmmmmmmmmmmmmmmmmmmmmmmmmmmmmmmmmmmm\n",
      "76\n",
      "se moito cando dixen eu que as suas políticas agresoras do común cidadán matan e a sua cospedal alcummmmmmmmmmmmmmmmmmmmmmmmmmmmmmmmmmmmmmmmmmmmmmmmmmmmmmmmmmmmmmmmmmmmmmmmmmmm\n",
      "an e a sua cospedal alcummmmmmmmmmmmmmmmmmmmmmmmmmmmmmmmmmmmmmmmmmmmmmmmmmmmmmmmmmmmmmmmmmmmmmmmmmmm\n",
      "77\n",
      "se moito cando dixen eu que as suas políticas agresoras do común cidadán matan e a sua cospedal alcummmmmmmmmmmmmmmmmmmmmmmmmmmmmmmmmmmmmmmmmmmmmmmmmmmmmmmmmmmmmmmmmmmmmmmmmmmmm\n",
      "n e a sua cospedal alcummmmmmmmmmmmmmmmmmmmmmmmmmmmmmmmmmmmmmmmmmmmmmmmmmmmmmmmmmmmmmmmmmmmmmmmmmmmm\n",
      "78\n",
      "se moito cando dixen eu que as suas políticas agresoras do común cidadán matan e a sua cospedal alcummmmmmmmmmmmmmmmmmmmmmmmmmmmmmmmmmmmmmmmmmmmmmmmmmmmmmmmmmmmmmmmmmmmmmmmmmmmmm\n",
      " e a sua cospedal alcummmmmmmmmmmmmmmmmmmmmmmmmmmmmmmmmmmmmmmmmmmmmmmmmmmmmmmmmmmmmmmmmmmmmmmmmmmmmm\n",
      "79\n",
      "se moito cando dixen eu que as suas políticas agresoras do común cidadán matan e a sua cospedal alcummmmmmmmmmmmmmmmmmmmmmmmmmmmmmmmmmmmmmmmmmmmmmmmmmmmmmmmmmmmmmmmmmmmmmmmmmmmmmm\n",
      "e a sua cospedal alcummmmmmmmmmmmmmmmmmmmmmmmmmmmmmmmmmmmmmmmmmmmmmmmmmmmmmmmmmmmmmmmmmmmmmmmmmmmmmm\n",
      "80\n",
      "se moito cando dixen eu que as suas políticas agresoras do común cidadán matan e a sua cospedal alcummmmmmmmmmmmmmmmmmmmmmmmmmmmmmmmmmmmmmmmmmmmmmmmmmmmmmmmmmmmmmmmmmmmmmmmmmmmmmmm\n",
      " a sua cospedal alcummmmmmmmmmmmmmmmmmmmmmmmmmmmmmmmmmmmmmmmmmmmmmmmmmmmmmmmmmmmmmmmmmmmmmmmmmmmmmmm\n",
      "81\n",
      "se moito cando dixen eu que as suas políticas agresoras do común cidadán matan e a sua cospedal alcummmmmmmmmmmmmmmmmmmmmmmmmmmmmmmmmmmmmmmmmmmmmmmmmmmmmmmmmmmmmmmmmmmmmmmmmmmmmmmmm\n",
      "a sua cospedal alcummmmmmmmmmmmmmmmmmmmmmmmmmmmmmmmmmmmmmmmmmmmmmmmmmmmmmmmmmmmmmmmmmmmmmmmmmmmmmmmm\n",
      "82\n",
      "se moito cando dixen eu que as suas políticas agresoras do común cidadán matan e a sua cospedal alcummmmmmmmmmmmmmmmmmmmmmmmmmmmmmmmmmmmmmmmmmmmmmmmmmmmmmmmmmmmmmmmmmmmmmmmmmmmmmmmmm\n",
      " sua cospedal alcummmmmmmmmmmmmmmmmmmmmmmmmmmmmmmmmmmmmmmmmmmmmmmmmmmmmmmmmmmmmmmmmmmmmmmmmmmmmmmmmm\n",
      "83\n",
      "se moito cando dixen eu que as suas políticas agresoras do común cidadán matan e a sua cospedal alcummmmmmmmmmmmmmmmmmmmmmmmmmmmmmmmmmmmmmmmmmmmmmmmmmmmmmmmmmmmmmmmmmmmmmmmmmmmmmmmmmm\n",
      "sua cospedal alcummmmmmmmmmmmmmmmmmmmmmmmmmmmmmmmmmmmmmmmmmmmmmmmmmmmmmmmmmmmmmmmmmmmmmmmmmmmmmmmmmm\n",
      "84\n",
      "se moito cando dixen eu que as suas políticas agresoras do común cidadán matan e a sua cospedal alcummmmmmmmmmmmmmmmmmmmmmmmmmmmmmmmmmmmmmmmmmmmmmmmmmmmmmmmmmmmmmmmmmmmmmmmmmmmmmmmmmmm\n",
      "ua cospedal alcummmmmmmmmmmmmmmmmmmmmmmmmmmmmmmmmmmmmmmmmmmmmmmmmmmmmmmmmmmmmmmmmmmmmmmmmmmmmmmmmmmm\n",
      "85\n",
      "se moito cando dixen eu que as suas políticas agresoras do común cidadán matan e a sua cospedal alcummmmmmmmmmmmmmmmmmmmmmmmmmmmmmmmmmmmmmmmmmmmmmmmmmmmmmmmmmmmmmmmmmmmmmmmmmmmmmmmmmmmm\n",
      "a cospedal alcummmmmmmmmmmmmmmmmmmmmmmmmmmmmmmmmmmmmmmmmmmmmmmmmmmmmmmmmmmmmmmmmmmmmmmmmmmmmmmmmmmmm\n",
      "86\n",
      "se moito cando dixen eu que as suas políticas agresoras do común cidadán matan e a sua cospedal alcummmmmmmmmmmmmmmmmmmmmmmmmmmmmmmmmmmmmmmmmmmmmmmmmmmmmmmmmmmmmmmmmmmmmmmmmmmmmmmmmmmmmm\n",
      " cospedal alcummmmmmmmmmmmmmmmmmmmmmmmmmmmmmmmmmmmmmmmmmmmmmmmmmmmmmmmmmmmmmmmmmmmmmmmmmmmmmmmmmmmmm\n",
      "87\n",
      "se moito cando dixen eu que as suas políticas agresoras do común cidadán matan e a sua cospedal alcummmmmmmmmmmmmmmmmmmmmmmmmmmmmmmmmmmmmmmmmmmmmmmmmmmmmmmmmmmmmmmmmmmmmmmmmmmmmmmmmmmmmmm\n",
      "cospedal alcummmmmmmmmmmmmmmmmmmmmmmmmmmmmmmmmmmmmmmmmmmmmmmmmmmmmmmmmmmmmmmmmmmmmmmmmmmmmmmmmmmmmmm\n",
      "88\n",
      "se moito cando dixen eu que as suas políticas agresoras do común cidadán matan e a sua cospedal alcummmmmmmmmmmmmmmmmmmmmmmmmmmmmmmmmmmmmmmmmmmmmmmmmmmmmmmmmmmmmmmmmmmmmmmmmmmmmmmmmmmmmmmm\n",
      "ospedal alcummmmmmmmmmmmmmmmmmmmmmmmmmmmmmmmmmmmmmmmmmmmmmmmmmmmmmmmmmmmmmmmmmmmmmmmmmmmmmmmmmmmmmmm\n",
      "89\n",
      "se moito cando dixen eu que as suas políticas agresoras do común cidadán matan e a sua cospedal alcummmmmmmmmmmmmmmmmmmmmmmmmmmmmmmmmmmmmmmmmmmmmmmmmmmmmmmmmmmmmmmmmmmmmmmmmmmmmmmmmmmmmmmmm\n",
      "spedal alcummmmmmmmmmmmmmmmmmmmmmmmmmmmmmmmmmmmmmmmmmmmmmmmmmmmmmmmmmmmmmmmmmmmmmmmmmmmmmmmmmmmmmmmm\n",
      "90\n",
      "se moito cando dixen eu que as suas políticas agresoras do común cidadán matan e a sua cospedal alcummmmmmmmmmmmmmmmmmmmmmmmmmmmmmmmmmmmmmmmmmmmmmmmmmmmmmmmmmmmmmmmmmmmmmmmmmmmmmmmmmmmmmmmmm\n",
      "pedal alcummmmmmmmmmmmmmmmmmmmmmmmmmmmmmmmmmmmmmmmmmmmmmmmmmmmmmmmmmmmmmmmmmmmmmmmmmmmmmmmmmmmmmmmmm\n",
      "91\n",
      "se moito cando dixen eu que as suas políticas agresoras do común cidadán matan e a sua cospedal alcummmmmmmmmmmmmmmmmmmmmmmmmmmmmmmmmmmmmmmmmmmmmmmmmmmmmmmmmmmmmmmmmmmmmmmmmmmmmmmmmmmmmmmmmmm\n",
      "edal alcummmmmmmmmmmmmmmmmmmmmmmmmmmmmmmmmmmmmmmmmmmmmmmmmmmmmmmmmmmmmmmmmmmmmmmmmmmmmmmmmmmmmmmmmmm\n",
      "92\n",
      "se moito cando dixen eu que as suas políticas agresoras do común cidadán matan e a sua cospedal alcummmmmmmmmmmmmmmmmmmmmmmmmmmmmmmmmmmmmmmmmmmmmmmmmmmmmmmmmmmmmmmmmmmmmmmmmmmmmmmmmmmmmmmmmmmm\n",
      "dal alcummmmmmmmmmmmmmmmmmmmmmmmmmmmmmmmmmmmmmmmmmmmmmmmmmmmmmmmmmmmmmmmmmmmmmmmmmmmmmmmmmmmmmmmmmmm\n",
      "93\n",
      "se moito cando dixen eu que as suas políticas agresoras do común cidadán matan e a sua cospedal alcummmmmmmmmmmmmmmmmmmmmmmmmmmmmmmmmmmmmmmmmmmmmmmmmmmmmmmmmmmmmmmmmmmmmmmmmmmmmmmmmmmmmmmmmmmmm\n",
      "al alcummmmmmmmmmmmmmmmmmmmmmmmmmmmmmmmmmmmmmmmmmmmmmmmmmmmmmmmmmmmmmmmmmmmmmmmmmmmmmmmmmmmmmmmmmmmm\n",
      "94\n",
      "se moito cando dixen eu que as suas políticas agresoras do común cidadán matan e a sua cospedal alcummmmmmmmmmmmmmmmmmmmmmmmmmmmmmmmmmmmmmmmmmmmmmmmmmmmmmmmmmmmmmmmmmmmmmmmmmmmmmmmmmmmmmmmmmmmmm\n",
      "l alcummmmmmmmmmmmmmmmmmmmmmmmmmmmmmmmmmmmmmmmmmmmmmmmmmmmmmmmmmmmmmmmmmmmmmmmmmmmmmmmmmmmmmmmmmmmmm\n",
      "95\n",
      "se moito cando dixen eu que as suas políticas agresoras do común cidadán matan e a sua cospedal alcummmmmmmmmmmmmmmmmmmmmmmmmmmmmmmmmmmmmmmmmmmmmmmmmmmmmmmmmmmmmmmmmmmmmmmmmmmmmmmmmmmmmmmmmmmmmmm\n",
      " alcummmmmmmmmmmmmmmmmmmmmmmmmmmmmmmmmmmmmmmmmmmmmmmmmmmmmmmmmmmmmmmmmmmmmmmmmmmmmmmmmmmmmmmmmmmmmmm\n",
      "96\n",
      "se moito cando dixen eu que as suas políticas agresoras do común cidadán matan e a sua cospedal alcummmmmmmmmmmmmmmmmmmmmmmmmmmmmmmmmmmmmmmmmmmmmmmmmmmmmmmmmmmmmmmmmmmmmmmmmmmmmmmmmmmmmmmmmmmmmmmm\n",
      "alcummmmmmmmmmmmmmmmmmmmmmmmmmmmmmmmmmmmmmmmmmmmmmmmmmmmmmmmmmmmmmmmmmmmmmmmmmmmmmmmmmmmmmmmmmmmmmmm\n",
      "97\n",
      "se moito cando dixen eu que as suas políticas agresoras do común cidadán matan e a sua cospedal alcummmmmmmmmmmmmmmmmmmmmmmmmmmmmmmmmmmmmmmmmmmmmmmmmmmmmmmmmmmmmmmmmmmmmmmmmmmmmmmmmmmmmmmmmmmmmmmmm\n",
      "lcummmmmmmmmmmmmmmmmmmmmmmmmmmmmmmmmmmmmmmmmmmmmmmmmmmmmmmmmmmmmmmmmmmmmmmmmmmmmmmmmmmmmmmmmmmmmmmmm\n",
      "98\n",
      "se moito cando dixen eu que as suas políticas agresoras do común cidadán matan e a sua cospedal alcummmmmmmmmmmmmmmmmmmmmmmmmmmmmmmmmmmmmmmmmmmmmmmmmmmmmmmmmmmmmmmmmmmmmmmmmmmmmmmmmmmmmmmmmmmmmmmmmm\n",
      "cummmmmmmmmmmmmmmmmmmmmmmmmmmmmmmmmmmmmmmmmmmmmmmmmmmmmmmmmmmmmmmmmmmmmmmmmmmmmmmmmmmmmmmmmmmmmmmmmm\n",
      "99\n",
      "se moito cando dixen eu que as suas políticas agresoras do común cidadán matan e a sua cospedal alcummmmmmmmmmmmmmmmmmmmmmmmmmmmmmmmmmmmmmmmmmmmmmmmmmmmmmmmmmmmmmmmmmmmmmmmmmmmmmmmmmmmmmmmmmmmmmmmmmm\n",
      "ummmmmmmmmmmmmmmmmmmmmmmmmmmmmmmmmmmmmmmmmmmmmmmmmmmmmmmmmmmmmmmmmmmmmmmmmmmmmmmmmmmmmmmmmmmmmmmmmmm\n"
     ]
    }
   ],
   "source": [
    "text=predict_window(input_init,window_size)"
   ]
  },
  {
   "cell_type": "code",
   "execution_count": 36,
   "metadata": {
    "collapsed": false
   },
   "outputs": [
    {
     "data": {
      "text/plain": [
       "'se moito cando dixen eu que as suas políticas agresoras do común cidadán matan e a sua cospedal alcummmmmmmmmmmmmmmmmmmmmmmmmmmmmmmmmmmmmmmmmmmmmmmmmmmmmmmmmmmmmmmmmmmmmmmmmmmmmmmmmmmmmmmmmmmmmmmmmmmm'"
      ]
     },
     "execution_count": 36,
     "metadata": {},
     "output_type": "execute_result"
    }
   ],
   "source": [
    "text"
   ]
  },
  {
   "cell_type": "code",
   "execution_count": null,
   "metadata": {
    "collapsed": true
   },
   "outputs": [],
   "source": []
  }
 ],
 "metadata": {
  "kernelspec": {
   "display_name": "Python [conda env:beiras-rnn]",
   "language": "python",
   "name": "conda-env-beiras-rnn-py"
  },
  "language_info": {
   "codemirror_mode": {
    "name": "ipython",
    "version": 3
   },
   "file_extension": ".py",
   "mimetype": "text/x-python",
   "name": "python",
   "nbconvert_exporter": "python",
   "pygments_lexer": "ipython3",
   "version": "3.6.2"
  }
 },
 "nbformat": 4,
 "nbformat_minor": 2
}
