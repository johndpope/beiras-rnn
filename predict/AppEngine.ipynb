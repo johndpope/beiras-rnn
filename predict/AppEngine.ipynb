{
 "cells": [
  {
   "cell_type": "markdown",
   "metadata": {},
   "source": [
    "# Api engine\n",
    "Empregamos o app engine stadurstandar por que din que e o mellor\n",
    "\n",
    "https://cloud.google.com/appengine/docs/standard/python/quickstart\n",
    "\n",
    "apt-get install google-cloud-sdk-app-engine-python\n",
    "\n",
    "install app engine sdk for python\n",
    "\n",
    "source activate google_api\n",
    "\n",
    "pip install webtest webapp2\n",
    "\n"
   ]
  },
  {
   "cell_type": "markdown",
   "metadata": {},
   "source": [
    "# EndPoints, descartado\n",
    "\n",
    "\n",
    "mkdir lib\n",
    "pip install -t lib google-endpoints google-endpoints-api-management\n",
    "## Create openApi\n",
    "export PYTHONPATH=\"$PYTHONPATH:/usr/lib/google-cloud-sdk/platform/google_appengine/\"\n",
    "python lib/endpoints/endpointscfg.py get_openapi_spec main.BeirasRnnApi --hostname ai-ml-dl.appspot.com\n",
    "## Deploy\n",
    "\n",
    "\n",
    "gcloud endpoints services deploy beirasrnnv1openapi.json beirasrnnv1openapi.json\n",
    "\n"
   ]
  },
  {
   "cell_type": "markdown",
   "metadata": {},
   "source": [
    "# Test app local\n",
    "\n",
    "source activate google_api\n",
    "\n",
    "\n",
    " dev_appserver.py  app.yaml --verbosity=debug\n",
    " \n",
    " \n",
    " curl http://localhoype: application/json\" -X POST -d '{\"input\" : \" Manda moito carallo\"}'\n",
    " # Deply app\n",
    "\n",
    "\n",
    " pip install -t lib/ numpy\n",
    " \n",
    "gcloud app deploy -v 2\n"
   ]
  },
  {
   "cell_type": "code",
   "execution_count": null,
   "metadata": {
    "collapsed": true
   },
   "outputs": [],
   "source": []
  }
 ],
 "metadata": {
  "kernelspec": {
   "display_name": "Python 3",
   "language": "python",
   "name": "python3"
  },
  "language_info": {
   "codemirror_mode": {
    "name": "ipython",
    "version": 3
   },
   "file_extension": ".py",
   "mimetype": "text/x-python",
   "name": "python",
   "nbconvert_exporter": "python",
   "pygments_lexer": "ipython3",
   "version": "3.6.0"
  }
 },
 "nbformat": 4,
 "nbformat_minor": 2
}
