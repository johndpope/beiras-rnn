{
 "cells": [
  {
   "cell_type": "markdown",
   "metadata": {},
   "source": [
    "# Google App engine\n",
    "\n",
    "We deploy a service in Google App Engine to provide an API for out RNN model.\n",
    "\n",
    "We use standard version.\n",
    "\n"
   ]
  },
  {
   "cell_type": "markdown",
   "metadata": {},
   "source": [
    "##  Instalation\n",
    "\n",
    "apt-get install google-cloud-sdk-app-engine-python\n",
    "\n",
    "source activate google-cloud-ml\n",
    "\n",
    "pip install webtest webapp2 grpcio"
   ]
  },
  {
   "cell_type": "markdown",
   "metadata": {},
   "source": [
    "## Create the lib we use to deploy to App Engine\n",
    "\n",
    "source activate google-cloud-ml\n",
    "\n",
    "pip install -t lib google-api-python-client grpcio"
   ]
  },
  {
   "cell_type": "markdown",
   "metadata": {},
   "source": [
    "## Test app local\n",
    "\n",
    "source activate google-cloud-ml\n",
    "\n",
    "\n",
    "dev_appserver.py  app.yaml  --log_level=debug --host=localhost\n",
    " \n",
    " \n",
    "\n",
    "\n",
    " curl http://localhost:8080/api/beiras_rnn -H \"Content-Type: application/json\" -X POST -d '{\"input\" : \"Non é facil de entender o que esta pasando con cataluña, unha volta atrais ou e unha elaborada estratexia para superar o marco\"}'"
   ]
  },
  {
   "cell_type": "markdown",
   "metadata": {},
   "source": [
    "## Deply app\n",
    "\n",
    "\n",
    "gcloud app deploy -v 11\n",
    "\n",
    "\n",
    " \n",
    " curl http://ai-ml-dl.appspot.com/api/beiras_rnn -H \"Content-Type: application/json\" -X POST -d '{\"input\" : \"Non é facil de entender o que esta pasando con cataluña, unha volta atrais ou e unha elaborada estratexia para superar o marco\"}'\n"
   ]
  },
  {
   "cell_type": "markdown",
   "metadata": {
    "collapsed": true
   },
   "source": [
    "## Python call \n",
    "\n",
    "pip install requests\n",
    "\n",
    "../predict/predict-app-engine.py Non é facil de entender o que esta pasando con cataluña, unha volta atrais ou e unha elaborada estratexia para superar o\n"
   ]
  },
  {
   "cell_type": "code",
   "execution_count": null,
   "metadata": {
    "collapsed": true
   },
   "outputs": [],
   "source": []
  }
 ],
 "metadata": {
  "kernelspec": {
   "display_name": "Python 3",
   "language": "python",
   "name": "python3"
  },
  "language_info": {
   "codemirror_mode": {
    "name": "ipython",
    "version": 3
   },
   "file_extension": ".py",
   "mimetype": "text/x-python",
   "name": "python",
   "nbconvert_exporter": "python",
   "pygments_lexer": "ipython3",
   "version": "3.6.1"
  }
 },
 "nbformat": 4,
 "nbformat_minor": 2
}
